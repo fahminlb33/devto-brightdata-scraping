{
 "cells": [
  {
   "cell_type": "code",
   "execution_count": 1,
   "metadata": {},
   "outputs": [],
   "source": [
    "import re\n",
    "import string\n",
    "import itertools\n",
    "\n",
    "import nltk\n",
    "import pandas as pd\n",
    "import seaborn as sns\n",
    "import plotly.express as px\n",
    "import matplotlib.pyplot as plt\n",
    "\n",
    "from scipy import stats"
   ]
  },
  {
   "cell_type": "markdown",
   "metadata": {},
   "source": [
    "## Data Loading"
   ]
  },
  {
   "cell_type": "code",
   "execution_count": 2,
   "metadata": {},
   "outputs": [
    {
     "data": {
      "text/html": [
       "<div>\n",
       "<style scoped>\n",
       "    .dataframe tbody tr th:only-of-type {\n",
       "        vertical-align: middle;\n",
       "    }\n",
       "\n",
       "    .dataframe tbody tr th {\n",
       "        vertical-align: top;\n",
       "    }\n",
       "\n",
       "    .dataframe thead th {\n",
       "        text-align: right;\n",
       "    }\n",
       "</style>\n",
       "<table border=\"1\" class=\"dataframe\">\n",
       "  <thead>\n",
       "    <tr style=\"text-align: right;\">\n",
       "      <th></th>\n",
       "      <th>id</th>\n",
       "      <th>product_name</th>\n",
       "      <th>source</th>\n",
       "      <th>price</th>\n",
       "      <th>series_model</th>\n",
       "      <th>brand</th>\n",
       "      <th>processor</th>\n",
       "      <th>memory_gb</th>\n",
       "      <th>storage_gb</th>\n",
       "      <th>storage_type</th>\n",
       "      <th>graphics_card</th>\n",
       "    </tr>\n",
       "  </thead>\n",
       "  <tbody>\n",
       "    <tr>\n",
       "      <th>0</th>\n",
       "      <td>83451581</td>\n",
       "      <td>LAPTOP ADMINISTRASI PERKANTORAN AXIOO</td>\n",
       "      <td>LKPP</td>\n",
       "      <td>12500000</td>\n",
       "      <td>LAPTOP ADMINISTRASI PERKANTORAN AXIOO</td>\n",
       "      <td>AXIOO</td>\n",
       "      <td>Intel Core I5- 3.70 GHz - Frekuensi Turbo | Co...</td>\n",
       "      <td>8.0</td>\n",
       "      <td>NaN</td>\n",
       "      <td>SSD NVME</td>\n",
       "      <td>Integrated</td>\n",
       "    </tr>\n",
       "    <tr>\n",
       "      <th>16</th>\n",
       "      <td>84521755</td>\n",
       "      <td>ACER LAPTOP TRAVELMATE P214 CORE I5/8 GB/512 G...</td>\n",
       "      <td>LKPP</td>\n",
       "      <td>18300000</td>\n",
       "      <td>TravelMate P214</td>\n",
       "      <td>ACER</td>\n",
       "      <td>Intel Core i5-1335U</td>\n",
       "      <td>8.0</td>\n",
       "      <td>512.0</td>\n",
       "      <td>HDD</td>\n",
       "      <td>Integrated</td>\n",
       "    </tr>\n",
       "    <tr>\n",
       "      <th>32</th>\n",
       "      <td>84521452</td>\n",
       "      <td>ACER LAPTOP TRAVELMATE P214 CORE I3/8 GB/512 G...</td>\n",
       "      <td>LKPP</td>\n",
       "      <td>15070000</td>\n",
       "      <td>Travelmate P214</td>\n",
       "      <td>ACER</td>\n",
       "      <td>Intel Core i3-1315U</td>\n",
       "      <td>8.0</td>\n",
       "      <td>512.0</td>\n",
       "      <td>HDD</td>\n",
       "      <td>Integrated</td>\n",
       "    </tr>\n",
       "    <tr>\n",
       "      <th>41</th>\n",
       "      <td>83971989</td>\n",
       "      <td>AXIOO LAPTOP MYBOOK PRO CORE I5 L5 (8N5)</td>\n",
       "      <td>LKPP</td>\n",
       "      <td>18100000</td>\n",
       "      <td>MyBook Pro L5 (8N5)</td>\n",
       "      <td>AXIOO</td>\n",
       "      <td>Intel Core i5-1235U</td>\n",
       "      <td>8.0</td>\n",
       "      <td>512.0</td>\n",
       "      <td>HDD</td>\n",
       "      <td>Integrated</td>\n",
       "    </tr>\n",
       "    <tr>\n",
       "      <th>57</th>\n",
       "      <td>80375727</td>\n",
       "      <td>AXIOO LAPTOP MYBOOK 14F</td>\n",
       "      <td>LKPP</td>\n",
       "      <td>3999000</td>\n",
       "      <td>MyBook 14F</td>\n",
       "      <td>AXIOO</td>\n",
       "      <td>Intel Celeron N4020 (1.10 GHz; 4M Cache; up to...</td>\n",
       "      <td>6.0</td>\n",
       "      <td>256.0</td>\n",
       "      <td>SSD</td>\n",
       "      <td>Integrated</td>\n",
       "    </tr>\n",
       "  </tbody>\n",
       "</table>\n",
       "</div>"
      ],
      "text/plain": [
       "          id                                       product_name source  \\\n",
       "0   83451581              LAPTOP ADMINISTRASI PERKANTORAN AXIOO   LKPP   \n",
       "16  84521755  ACER LAPTOP TRAVELMATE P214 CORE I5/8 GB/512 G...   LKPP   \n",
       "32  84521452  ACER LAPTOP TRAVELMATE P214 CORE I3/8 GB/512 G...   LKPP   \n",
       "41  83971989           AXIOO LAPTOP MYBOOK PRO CORE I5 L5 (8N5)   LKPP   \n",
       "57  80375727                            AXIOO LAPTOP MYBOOK 14F   LKPP   \n",
       "\n",
       "       price                           series_model  brand  \\\n",
       "0   12500000  LAPTOP ADMINISTRASI PERKANTORAN AXIOO  AXIOO   \n",
       "16  18300000                        TravelMate P214   ACER   \n",
       "32  15070000                        Travelmate P214   ACER   \n",
       "41  18100000                    MyBook Pro L5 (8N5)  AXIOO   \n",
       "57   3999000                             MyBook 14F  AXIOO   \n",
       "\n",
       "                                            processor  memory_gb  storage_gb  \\\n",
       "0   Intel Core I5- 3.70 GHz - Frekuensi Turbo | Co...        8.0         NaN   \n",
       "16                                Intel Core i5-1335U        8.0       512.0   \n",
       "32                                Intel Core i3-1315U        8.0       512.0   \n",
       "41                                Intel Core i5-1235U        8.0       512.0   \n",
       "57  Intel Celeron N4020 (1.10 GHz; 4M Cache; up to...        6.0       256.0   \n",
       "\n",
       "   storage_type graphics_card  \n",
       "0      SSD NVME    Integrated  \n",
       "16          HDD    Integrated  \n",
       "32          HDD    Integrated  \n",
       "41          HDD    Integrated  \n",
       "57          SSD    Integrated  "
      ]
     },
     "execution_count": 2,
     "metadata": {},
     "output_type": "execute_result"
    }
   ],
   "source": [
    "df = pd.concat([\n",
    "    pd.read_json(\"../data/clean/lkpp-products-ready.jsonl\", lines=True),\n",
    "    pd.read_json(\"../data/clean/ecom-products-ready.jsonl\", lines=True),\n",
    "], ignore_index=True)\n",
    "\n",
    "df[\"id\"] = df[\"id\"].astype(str)\n",
    "df = df.drop_duplicates(subset=[\"id\"])\n",
    "\n",
    "df.head()"
   ]
  },
  {
   "cell_type": "code",
   "execution_count": 3,
   "metadata": {},
   "outputs": [],
   "source": [
    "df.to_json(\"../data/clean/combined.jsonl\", orient=\"records\", lines=True)"
   ]
  },
  {
   "cell_type": "markdown",
   "metadata": {},
   "source": [
    "## Preprocess"
   ]
  },
  {
   "cell_type": "code",
   "execution_count": 3,
   "metadata": {},
   "outputs": [
    {
     "data": {
      "text/plain": [
       "<Axes: >"
      ]
     },
     "execution_count": 3,
     "metadata": {},
     "output_type": "execute_result"
    },
    {
     "data": {
      "image/png": "[encoded data removed]",
      "text/plain": [
       "<Figure size 640x480 with 1 Axes>"
      ]
     },
     "metadata": {},
     "output_type": "display_data"
    }
   ],
   "source": [
    "dd = df.isna().sum() / df.shape[0] * 100\n",
    "dd.plot.bar()"
   ]
  },
  {
   "cell_type": "code",
   "execution_count": 4,
   "metadata": {},
   "outputs": [
    {
     "name": "stdout",
     "output_type": "stream",
     "text": [
      "<class 'pandas.core.frame.DataFrame'>\n",
      "Index: 20224 entries, 0 to 22365\n",
      "Data columns (total 11 columns):\n",
      " #   Column         Non-Null Count  Dtype  \n",
      "---  ------         --------------  -----  \n",
      " 0   id             20224 non-null  object \n",
      " 1   product_name   20224 non-null  object \n",
      " 2   source         20224 non-null  object \n",
      " 3   price          20224 non-null  int64  \n",
      " 4   series_model   20208 non-null  object \n",
      " 5   brand          20171 non-null  object \n",
      " 6   processor      20224 non-null  object \n",
      " 7   memory_gb      20224 non-null  float64\n",
      " 8   storage_gb     5754 non-null   float64\n",
      " 9   storage_type   19999 non-null  object \n",
      " 10  graphics_card  17494 non-null  object \n",
      "dtypes: float64(2), int64(1), object(8)\n",
      "memory usage: 1.9+ MB\n"
     ]
    }
   ],
   "source": [
    "df = df.dropna(subset=[\"processor\", \"memory_gb\"])\n",
    "df.info()"
   ]
  },
  {
   "cell_type": "code",
   "execution_count": 5,
   "metadata": {},
   "outputs": [
    {
     "data": {
      "text/plain": [
       "<Axes: xlabel='source'>"
      ]
     },
     "execution_count": 5,
     "metadata": {},
     "output_type": "execute_result"
    },
    {
     "data": {
      "image/png": "[encoded data removed]",
      "text/plain": [
       "<Figure size 640x480 with 1 Axes>"
      ]
     },
     "metadata": {},
     "output_type": "display_data"
    }
   ],
   "source": [
    "df[\"source\"].value_counts().plot.bar()"
   ]
  },
  {
   "cell_type": "markdown",
   "metadata": {},
   "source": [
    "## Keyword Research"
   ]
  },
  {
   "cell_type": "code",
   "execution_count": 6,
   "metadata": {},
   "outputs": [],
   "source": [
    "def clean_tokenize_product_name(s: str):\n",
    "    if s is None: \n",
    "        return []\n",
    "    \n",
    "    # case folding\n",
    "    text = s.lower()\n",
    "\n",
    "    # punctuation removal\n",
    "    translator = str.maketrans('', '', string.punctuation)\n",
    "    text = text.translate(translator)\n",
    "\n",
    "    return nltk.tokenize.word_tokenize(text)\n",
    "\n",
    "def get_ngram_frame(corpus: list[str], n_gram=2):\n",
    "    product_name_corpus = list(itertools.chain(*[clean_tokenize_product_name(x) for x in corpus]))\n",
    "    product_name_grams = list(nltk.ngrams(product_name_corpus, n_gram))\n",
    "\n",
    "    fdist = nltk.FreqDist(product_name_grams)\n",
    "    gram_df = pd.DataFrame({\n",
    "        \"gram\": [\" \".join(x) for x in fdist.keys()],\n",
    "        \"freq\": [x for x in fdist.values()]\n",
    "    })\n",
    "\n",
    "    return gram_df.sort_values(\"freq\", ascending=False)"
   ]
  },
  {
   "cell_type": "code",
   "execution_count": 19,
   "metadata": {},
   "outputs": [
    {
     "data": {
      "text/html": [
       "<div>\n",
       "<style scoped>\n",
       "    .dataframe tbody tr th:only-of-type {\n",
       "        vertical-align: middle;\n",
       "    }\n",
       "\n",
       "    .dataframe tbody tr th {\n",
       "        vertical-align: top;\n",
       "    }\n",
       "\n",
       "    .dataframe thead th {\n",
       "        text-align: right;\n",
       "    }\n",
       "</style>\n",
       "<table border=\"1\" class=\"dataframe\">\n",
       "  <thead>\n",
       "    <tr style=\"text-align: right;\">\n",
       "      <th></th>\n",
       "      <th>gram</th>\n",
       "      <th>freq</th>\n",
       "    </tr>\n",
       "  </thead>\n",
       "  <tbody>\n",
       "    <tr>\n",
       "      <th>6</th>\n",
       "      <td>mybook</td>\n",
       "      <td>678</td>\n",
       "    </tr>\n",
       "    <tr>\n",
       "      <th>7</th>\n",
       "      <td>pro</td>\n",
       "      <td>659</td>\n",
       "    </tr>\n",
       "    <tr>\n",
       "      <th>24</th>\n",
       "      <td>expertbook</td>\n",
       "      <td>478</td>\n",
       "    </tr>\n",
       "    <tr>\n",
       "      <th>524</th>\n",
       "      <td>bg1408cva</td>\n",
       "      <td>378</td>\n",
       "    </tr>\n",
       "    <tr>\n",
       "      <th>31</th>\n",
       "      <td>chromebook</td>\n",
       "      <td>187</td>\n",
       "    </tr>\n",
       "  </tbody>\n",
       "</table>\n",
       "</div>"
      ],
      "text/plain": [
       "           gram  freq\n",
       "6        mybook   678\n",
       "7           pro   659\n",
       "24   expertbook   478\n",
       "524   bg1408cva   378\n",
       "31   chromebook   187"
      ]
     },
     "execution_count": 19,
     "metadata": {},
     "output_type": "execute_result"
    }
   ],
   "source": [
    "N_GRAM = 1\n",
    "gram_df = get_ngram_frame(df[df[\"source\"] == \"LKPP\"][\"series_model\"].values, N_GRAM)\n",
    "gram_df.head()"
   ]
  },
  {
   "cell_type": "code",
   "execution_count": 20,
   "metadata": {},
   "outputs": [
    {
     "data": {
      "text/plain": [
       "Text(0.5, 1.0, 'Top 20 1-gram of Product Name')"
      ]
     },
     "execution_count": 20,
     "metadata": {},
     "output_type": "execute_result"
    },
    {
     "data": {
      "image/png": "[encoded data removed]",
      "text/plain": [
       "<Figure size 640x480 with 1 Axes>"
      ]
     },
     "metadata": {},
     "output_type": "display_data"
    }
   ],
   "source": [
    "sns.barplot(gram_df.nlargest(20, \"freq\"), x=\"freq\", y=\"gram\")\n",
    "plt.title(f\"Top 20 {N_GRAM}-gram of Product Name\")"
   ]
  },
  {
   "cell_type": "code",
   "execution_count": 31,
   "metadata": {},
   "outputs": [
    {
     "data": {
      "text/html": [
       "<div>\n",
       "<style scoped>\n",
       "    .dataframe tbody tr th:only-of-type {\n",
       "        vertical-align: middle;\n",
       "    }\n",
       "\n",
       "    .dataframe tbody tr th {\n",
       "        vertical-align: top;\n",
       "    }\n",
       "\n",
       "    .dataframe thead th {\n",
       "        text-align: right;\n",
       "    }\n",
       "</style>\n",
       "<table border=\"1\" class=\"dataframe\">\n",
       "  <thead>\n",
       "    <tr style=\"text-align: right;\">\n",
       "      <th></th>\n",
       "      <th>id</th>\n",
       "      <th>product_name</th>\n",
       "      <th>source</th>\n",
       "      <th>price</th>\n",
       "      <th>series_model</th>\n",
       "      <th>brand</th>\n",
       "      <th>processor</th>\n",
       "      <th>memory_gb</th>\n",
       "      <th>storage_gb</th>\n",
       "      <th>storage_type</th>\n",
       "      <th>graphics_card</th>\n",
       "    </tr>\n",
       "  </thead>\n",
       "  <tbody>\n",
       "    <tr>\n",
       "      <th>41</th>\n",
       "      <td>83971989</td>\n",
       "      <td>AXIOO LAPTOP MYBOOK PRO CORE I5 L5 (8N5)</td>\n",
       "      <td>LKPP</td>\n",
       "      <td>18100000</td>\n",
       "      <td>MyBook Pro L5 (8N5)</td>\n",
       "      <td>AXIOO</td>\n",
       "      <td>Intel Core i5-1235U</td>\n",
       "      <td>8.0</td>\n",
       "      <td>512.0</td>\n",
       "      <td>HDD</td>\n",
       "      <td>Integrated</td>\n",
       "    </tr>\n",
       "    <tr>\n",
       "      <th>42</th>\n",
       "      <td>83971989</td>\n",
       "      <td>AXIOO LAPTOP MYBOOK PRO CORE I5 L5 (8N5)</td>\n",
       "      <td>LKPP</td>\n",
       "      <td>18100000</td>\n",
       "      <td>MyBook Pro L5 (8N5)</td>\n",
       "      <td>AXIOO</td>\n",
       "      <td>Intel Core i5-1235U</td>\n",
       "      <td>8.0</td>\n",
       "      <td>512.0</td>\n",
       "      <td>HDD</td>\n",
       "      <td>Integrated</td>\n",
       "    </tr>\n",
       "    <tr>\n",
       "      <th>43</th>\n",
       "      <td>83971989</td>\n",
       "      <td>AXIOO LAPTOP MYBOOK PRO CORE I5 L5 (8N5)</td>\n",
       "      <td>LKPP</td>\n",
       "      <td>18100000</td>\n",
       "      <td>MyBook Pro L5 (8N5)</td>\n",
       "      <td>AXIOO</td>\n",
       "      <td>Intel Core i5-1235U</td>\n",
       "      <td>8.0</td>\n",
       "      <td>512.0</td>\n",
       "      <td>HDD</td>\n",
       "      <td>Integrated</td>\n",
       "    </tr>\n",
       "    <tr>\n",
       "      <th>44</th>\n",
       "      <td>83971989</td>\n",
       "      <td>AXIOO LAPTOP MYBOOK PRO CORE I5 L5 (8N5)</td>\n",
       "      <td>LKPP</td>\n",
       "      <td>18100000</td>\n",
       "      <td>MyBook Pro L5 (8N5)</td>\n",
       "      <td>AXIOO</td>\n",
       "      <td>Intel Core i5-1235U</td>\n",
       "      <td>8.0</td>\n",
       "      <td>512.0</td>\n",
       "      <td>HDD</td>\n",
       "      <td>Integrated</td>\n",
       "    </tr>\n",
       "    <tr>\n",
       "      <th>45</th>\n",
       "      <td>83971989</td>\n",
       "      <td>AXIOO LAPTOP MYBOOK PRO CORE I5 L5 (8N5)</td>\n",
       "      <td>LKPP</td>\n",
       "      <td>18100000</td>\n",
       "      <td>MyBook Pro L5 (8N5)</td>\n",
       "      <td>AXIOO</td>\n",
       "      <td>Intel Core i5-1235U</td>\n",
       "      <td>8.0</td>\n",
       "      <td>512.0</td>\n",
       "      <td>HDD</td>\n",
       "      <td>Integrated</td>\n",
       "    </tr>\n",
       "    <tr>\n",
       "      <th>...</th>\n",
       "      <td>...</td>\n",
       "      <td>...</td>\n",
       "      <td>...</td>\n",
       "      <td>...</td>\n",
       "      <td>...</td>\n",
       "      <td>...</td>\n",
       "      <td>...</td>\n",
       "      <td>...</td>\n",
       "      <td>...</td>\n",
       "      <td>...</td>\n",
       "      <td>...</td>\n",
       "    </tr>\n",
       "    <tr>\n",
       "      <th>17645</th>\n",
       "      <td>031cb2c1e1d0406c9e9f058d9c32e58e909bc6d1aa06ea...</td>\n",
       "      <td>LAPTOP AXIOO MYBOOK PRO L5 (8N2-5) i5 8GB 256G...</td>\n",
       "      <td>Lazada</td>\n",
       "      <td>14913000</td>\n",
       "      <td>MyBook Pro L5</td>\n",
       "      <td>AXIOO</td>\n",
       "      <td>Intel Core i5-1235U</td>\n",
       "      <td>8.0</td>\n",
       "      <td>256.0</td>\n",
       "      <td>SSD NVME</td>\n",
       "      <td>Integrated</td>\n",
       "    </tr>\n",
       "    <tr>\n",
       "      <th>17655</th>\n",
       "      <td>621d164e1c5a4636f138385c64882b3b9efb88b7ea3551...</td>\n",
       "      <td>Axioo MyBook Pro L5 (8N9) 14 Inch i5-1135G7 8G...</td>\n",
       "      <td>Lazada</td>\n",
       "      <td>18560000</td>\n",
       "      <td>MyBook Pro L5 (8N9)</td>\n",
       "      <td>AXIOO</td>\n",
       "      <td>i5-1135G7</td>\n",
       "      <td>8.0</td>\n",
       "      <td>NaN</td>\n",
       "      <td>SSD</td>\n",
       "      <td>Integrated</td>\n",
       "    </tr>\n",
       "    <tr>\n",
       "      <th>17656</th>\n",
       "      <td>bba7c8827e7b0ff990cb7191d0a7ba4862619d4cb5a91c...</td>\n",
       "      <td>NOTEBOOK AXIOO MYBOOK PRO L5 (8N9) RAM 8GB/ 1T...</td>\n",
       "      <td>Lazada</td>\n",
       "      <td>16000000</td>\n",
       "      <td>MyBook Pro L5 (8N9)</td>\n",
       "      <td>AXIOO</td>\n",
       "      <td>Intel Core i5-1235U</td>\n",
       "      <td>8.0</td>\n",
       "      <td>NaN</td>\n",
       "      <td>SSD NVME</td>\n",
       "      <td>Integrated</td>\n",
       "    </tr>\n",
       "    <tr>\n",
       "      <th>17666</th>\n",
       "      <td>2a4575da5cedc26dfdf6f340dbaa042154b9171e298b3d...</td>\n",
       "      <td>NOTEBOOK AXIOO MYBOOK PRO L5 (8N2) RAM 8GB/ 25...</td>\n",
       "      <td>Lazada</td>\n",
       "      <td>15000000</td>\n",
       "      <td>MyBook Pro L5 (8N2)</td>\n",
       "      <td>AXIOO</td>\n",
       "      <td>Intel Core i5-1235U</td>\n",
       "      <td>8.0</td>\n",
       "      <td>256.0</td>\n",
       "      <td>SSD NVME</td>\n",
       "      <td>Integrated</td>\n",
       "    </tr>\n",
       "    <tr>\n",
       "      <th>17667</th>\n",
       "      <td>a2ff699d1d46d298acb793b7f3c96b775751465d218dc4...</td>\n",
       "      <td>LAPTOP AXIOO MYBOOK PRO L5 (8N9) RAM 8GB/ 1TB ...</td>\n",
       "      <td>Lazada</td>\n",
       "      <td>16000000</td>\n",
       "      <td>MyBook Pro L5 (8N9)</td>\n",
       "      <td>AXIOO</td>\n",
       "      <td>Intel Core i5-1235U</td>\n",
       "      <td>8.0</td>\n",
       "      <td>NaN</td>\n",
       "      <td>SSD NVME</td>\n",
       "      <td>Integrated</td>\n",
       "    </tr>\n",
       "  </tbody>\n",
       "</table>\n",
       "<p>194 rows × 11 columns</p>\n",
       "</div>"
      ],
      "text/plain": [
       "                                                      id  \\\n",
       "41                                              83971989   \n",
       "42                                              83971989   \n",
       "43                                              83971989   \n",
       "44                                              83971989   \n",
       "45                                              83971989   \n",
       "...                                                  ...   \n",
       "17645  031cb2c1e1d0406c9e9f058d9c32e58e909bc6d1aa06ea...   \n",
       "17655  621d164e1c5a4636f138385c64882b3b9efb88b7ea3551...   \n",
       "17656  bba7c8827e7b0ff990cb7191d0a7ba4862619d4cb5a91c...   \n",
       "17666  2a4575da5cedc26dfdf6f340dbaa042154b9171e298b3d...   \n",
       "17667  a2ff699d1d46d298acb793b7f3c96b775751465d218dc4...   \n",
       "\n",
       "                                            product_name  source     price  \\\n",
       "41              AXIOO LAPTOP MYBOOK PRO CORE I5 L5 (8N5)    LKPP  18100000   \n",
       "42              AXIOO LAPTOP MYBOOK PRO CORE I5 L5 (8N5)    LKPP  18100000   \n",
       "43              AXIOO LAPTOP MYBOOK PRO CORE I5 L5 (8N5)    LKPP  18100000   \n",
       "44              AXIOO LAPTOP MYBOOK PRO CORE I5 L5 (8N5)    LKPP  18100000   \n",
       "45              AXIOO LAPTOP MYBOOK PRO CORE I5 L5 (8N5)    LKPP  18100000   \n",
       "...                                                  ...     ...       ...   \n",
       "17645  LAPTOP AXIOO MYBOOK PRO L5 (8N2-5) i5 8GB 256G...  Lazada  14913000   \n",
       "17655  Axioo MyBook Pro L5 (8N9) 14 Inch i5-1135G7 8G...  Lazada  18560000   \n",
       "17656  NOTEBOOK AXIOO MYBOOK PRO L5 (8N9) RAM 8GB/ 1T...  Lazada  16000000   \n",
       "17666  NOTEBOOK AXIOO MYBOOK PRO L5 (8N2) RAM 8GB/ 25...  Lazada  15000000   \n",
       "17667  LAPTOP AXIOO MYBOOK PRO L5 (8N9) RAM 8GB/ 1TB ...  Lazada  16000000   \n",
       "\n",
       "              series_model  brand            processor  memory_gb  storage_gb  \\\n",
       "41     MyBook Pro L5 (8N5)  AXIOO  Intel Core i5-1235U        8.0       512.0   \n",
       "42     MyBook Pro L5 (8N5)  AXIOO  Intel Core i5-1235U        8.0       512.0   \n",
       "43     MyBook Pro L5 (8N5)  AXIOO  Intel Core i5-1235U        8.0       512.0   \n",
       "44     MyBook Pro L5 (8N5)  AXIOO  Intel Core i5-1235U        8.0       512.0   \n",
       "45     MyBook Pro L5 (8N5)  AXIOO  Intel Core i5-1235U        8.0       512.0   \n",
       "...                    ...    ...                  ...        ...         ...   \n",
       "17645        MyBook Pro L5  AXIOO  Intel Core i5-1235U        8.0       256.0   \n",
       "17655  MyBook Pro L5 (8N9)  AXIOO            i5-1135G7        8.0         NaN   \n",
       "17656  MyBook Pro L5 (8N9)  AXIOO  Intel Core i5-1235U        8.0         NaN   \n",
       "17666  MyBook Pro L5 (8N2)  AXIOO  Intel Core i5-1235U        8.0       256.0   \n",
       "17667  MyBook Pro L5 (8N9)  AXIOO  Intel Core i5-1235U        8.0         NaN   \n",
       "\n",
       "      storage_type graphics_card  \n",
       "41             HDD    Integrated  \n",
       "42             HDD    Integrated  \n",
       "43             HDD    Integrated  \n",
       "44             HDD    Integrated  \n",
       "45             HDD    Integrated  \n",
       "...            ...           ...  \n",
       "17645     SSD NVME    Integrated  \n",
       "17655          SSD    Integrated  \n",
       "17656     SSD NVME    Integrated  \n",
       "17666     SSD NVME    Integrated  \n",
       "17667     SSD NVME    Integrated  \n",
       "\n",
       "[194 rows x 11 columns]"
      ]
     },
     "execution_count": 31,
     "metadata": {},
     "output_type": "execute_result"
    }
   ],
   "source": [
    "df[df[\"product_name\"].str.contains(\"MYBOOK.+L5\", regex=True, flags=re.IGNORECASE)]"
   ]
  },
  {
   "cell_type": "markdown",
   "metadata": {},
   "source": [
    "## Compare Prices"
   ]
  },
  {
   "cell_type": "code",
   "execution_count": 61,
   "metadata": {},
   "outputs": [
    {
     "data": {
      "text/html": [
       "<div>\n",
       "<style scoped>\n",
       "    .dataframe tbody tr th:only-of-type {\n",
       "        vertical-align: middle;\n",
       "    }\n",
       "\n",
       "    .dataframe tbody tr th {\n",
       "        vertical-align: top;\n",
       "    }\n",
       "\n",
       "    .dataframe thead th {\n",
       "        text-align: right;\n",
       "    }\n",
       "</style>\n",
       "<table border=\"1\" class=\"dataframe\">\n",
       "  <thead>\n",
       "    <tr style=\"text-align: right;\">\n",
       "      <th></th>\n",
       "      <th>id</th>\n",
       "      <th>product_name</th>\n",
       "      <th>source</th>\n",
       "      <th>price</th>\n",
       "      <th>series_model</th>\n",
       "      <th>brand</th>\n",
       "      <th>processor</th>\n",
       "      <th>memory_gb</th>\n",
       "      <th>storage_gb</th>\n",
       "      <th>storage_type</th>\n",
       "      <th>graphics_card</th>\n",
       "    </tr>\n",
       "  </thead>\n",
       "  <tbody>\n",
       "    <tr>\n",
       "      <th>244</th>\n",
       "      <td>75898191</td>\n",
       "      <td>LIBERA LIBERA MERDEKA CHROMEBOOK C120 1Y (HANY...</td>\n",
       "      <td>LKPP</td>\n",
       "      <td>6950000</td>\n",
       "      <td>Chromebook C120 1Y</td>\n",
       "      <td>LIBERA</td>\n",
       "      <td>OctaCore up to 2.4Ghz, Cache 2MB</td>\n",
       "      <td>4.0</td>\n",
       "      <td>32.0</td>\n",
       "      <td>HDD</td>\n",
       "      <td>Integrated</td>\n",
       "    </tr>\n",
       "    <tr>\n",
       "      <th>245</th>\n",
       "      <td>75898191</td>\n",
       "      <td>LIBERA LIBERA MERDEKA CHROMEBOOK C120 1Y (HANY...</td>\n",
       "      <td>LKPP</td>\n",
       "      <td>6950000</td>\n",
       "      <td>Chromebook C120 1Y</td>\n",
       "      <td>LIBERA</td>\n",
       "      <td>OctaCore up to 2.4Ghz, Cache 2MB</td>\n",
       "      <td>4.0</td>\n",
       "      <td>32.0</td>\n",
       "      <td>HDD</td>\n",
       "      <td>Integrated</td>\n",
       "    </tr>\n",
       "    <tr>\n",
       "      <th>246</th>\n",
       "      <td>75898191</td>\n",
       "      <td>LIBERA LIBERA MERDEKA CHROMEBOOK C120 1Y (HANY...</td>\n",
       "      <td>LKPP</td>\n",
       "      <td>6950000</td>\n",
       "      <td>Chromebook C120 1Y</td>\n",
       "      <td>LIBERA</td>\n",
       "      <td>OctaCore up to 2.4Ghz, Cache 2MB</td>\n",
       "      <td>4.0</td>\n",
       "      <td>32.0</td>\n",
       "      <td>HDD</td>\n",
       "      <td>Integrated</td>\n",
       "    </tr>\n",
       "    <tr>\n",
       "      <th>247</th>\n",
       "      <td>75898191</td>\n",
       "      <td>LIBERA LIBERA MERDEKA CHROMEBOOK C120 1Y (HANY...</td>\n",
       "      <td>LKPP</td>\n",
       "      <td>6950000</td>\n",
       "      <td>Chromebook C120 1Y</td>\n",
       "      <td>LIBERA</td>\n",
       "      <td>OctaCore up to 2.4Ghz, Cache 2MB</td>\n",
       "      <td>4.0</td>\n",
       "      <td>32.0</td>\n",
       "      <td>HDD</td>\n",
       "      <td>Integrated</td>\n",
       "    </tr>\n",
       "    <tr>\n",
       "      <th>248</th>\n",
       "      <td>75898191</td>\n",
       "      <td>LIBERA LIBERA MERDEKA CHROMEBOOK C120 1Y (HANY...</td>\n",
       "      <td>LKPP</td>\n",
       "      <td>6950000</td>\n",
       "      <td>Chromebook C120 1Y</td>\n",
       "      <td>LIBERA</td>\n",
       "      <td>OctaCore up to 2.4Ghz, Cache 2MB</td>\n",
       "      <td>4.0</td>\n",
       "      <td>32.0</td>\n",
       "      <td>HDD</td>\n",
       "      <td>Integrated</td>\n",
       "    </tr>\n",
       "  </tbody>\n",
       "</table>\n",
       "</div>"
      ],
      "text/plain": [
       "           id                                       product_name source  \\\n",
       "244  75898191  LIBERA LIBERA MERDEKA CHROMEBOOK C120 1Y (HANY...   LKPP   \n",
       "245  75898191  LIBERA LIBERA MERDEKA CHROMEBOOK C120 1Y (HANY...   LKPP   \n",
       "246  75898191  LIBERA LIBERA MERDEKA CHROMEBOOK C120 1Y (HANY...   LKPP   \n",
       "247  75898191  LIBERA LIBERA MERDEKA CHROMEBOOK C120 1Y (HANY...   LKPP   \n",
       "248  75898191  LIBERA LIBERA MERDEKA CHROMEBOOK C120 1Y (HANY...   LKPP   \n",
       "\n",
       "       price        series_model   brand                         processor  \\\n",
       "244  6950000  Chromebook C120 1Y  LIBERA  OctaCore up to 2.4Ghz, Cache 2MB   \n",
       "245  6950000  Chromebook C120 1Y  LIBERA  OctaCore up to 2.4Ghz, Cache 2MB   \n",
       "246  6950000  Chromebook C120 1Y  LIBERA  OctaCore up to 2.4Ghz, Cache 2MB   \n",
       "247  6950000  Chromebook C120 1Y  LIBERA  OctaCore up to 2.4Ghz, Cache 2MB   \n",
       "248  6950000  Chromebook C120 1Y  LIBERA  OctaCore up to 2.4Ghz, Cache 2MB   \n",
       "\n",
       "     memory_gb  storage_gb storage_type graphics_card  \n",
       "244        4.0        32.0          HDD    Integrated  \n",
       "245        4.0        32.0          HDD    Integrated  \n",
       "246        4.0        32.0          HDD    Integrated  \n",
       "247        4.0        32.0          HDD    Integrated  \n",
       "248        4.0        32.0          HDD    Integrated  "
      ]
     },
     "execution_count": 61,
     "metadata": {},
     "output_type": "execute_result"
    }
   ],
   "source": [
    "subset_df = df[df[\"product_name\"].str.contains(\"C120\", regex=True, flags=re.IGNORECASE)]\n",
    "subset_df.head()"
   ]
  },
  {
   "cell_type": "code",
   "execution_count": 62,
   "metadata": {},
   "outputs": [
    {
     "data": {
      "text/plain": [
       "<Axes: xlabel='source'>"
      ]
     },
     "execution_count": 62,
     "metadata": {},
     "output_type": "execute_result"
    },
    {
     "data": {
      "image/png": "[encoded data removed]",
      "text/plain": [
       "<Figure size 640x480 with 1 Axes>"
      ]
     },
     "metadata": {},
     "output_type": "display_data"
    }
   ],
   "source": [
    "subset_df[\"source\"].value_counts().plot.bar()"
   ]
  },
  {
   "cell_type": "code",
   "execution_count": 63,
   "metadata": {},
   "outputs": [
    {
     "data": {
      "text/plain": [
       "<seaborn.axisgrid.FacetGrid at 0x7efe1bbf0890>"
      ]
     },
     "execution_count": 63,
     "metadata": {},
     "output_type": "execute_result"
    },
    {
     "data": {
      "image/png": "[encoded data removed]",
      "text/plain": [
       "<Figure size 619.5x500 with 1 Axes>"
      ]
     },
     "metadata": {},
     "output_type": "display_data"
    }
   ],
   "source": [
    "sns.displot(subset_df, x=\"price\", hue=\"source\")"
   ]
  },
  {
   "cell_type": "code",
   "execution_count": 64,
   "metadata": {},
   "outputs": [
    {
     "data": {
      "application/vnd.plotly.v1+json": {
       "config": {
        "plotlyServerURL": "https://plot.ly"
       },
       "data": [
        {
         "alignmentgroup": "True",
         "bingroup": "x",
         "hovertemplate": "source=LKPP<br>price=%{x}<br>count=%{y}<extra></extra>",
         "legendgroup": "LKPP",
         "marker": {
          "color": "#636efa",
          "pattern": {
           "shape": ""
          }
         },
         "name": "LKPP",
         "offsetgroup": "LKPP",
         "opacity": 0.75,
         "orientation": "v",
         "showlegend": true,
         "type": "histogram",
         "x": [
          6950000,
          6950000,
          6950000,
          6950000,
          6950000,
          6950000,
          6950000,
          6950000,
          6950000,
          7620000,
          7620000,
          7620000,
          7620000,
          7620000,
          7620000,
          7620000,
          7620000,
          7620000,
          7650000,
          7650000,
          7650000,
          7650000,
          6950000,
          6950000,
          6950000,
          6950000,
          8650000,
          8650000,
          8650000,
          8650000,
          6795000,
          6795000,
          6795000,
          6795000,
          7250000,
          7250000,
          7250000,
          7250000,
          7250000,
          7250000,
          7250000,
          7250000,
          7250000,
          7250000,
          7250000,
          7250000,
          7250000,
          7250000,
          7250000,
          7250000,
          5000000,
          5000000,
          5000000,
          5000000,
          7950000,
          7950000,
          7950000,
          7950000,
          8650000,
          8650000,
          8650000,
          8650000,
          7950000,
          7950000,
          7950000,
          7950000,
          5750000,
          5750000,
          5750000,
          5750000,
          5750000,
          5750000,
          5750000,
          5750000,
          5750000,
          5750000,
          5750000,
          5750000,
          5750000,
          5750000,
          5750000,
          5750000,
          5750000,
          5750000,
          5750000,
          5750000,
          7650000,
          5000000,
          5550000,
          6300000,
          7650000,
          8650000,
          5750000,
          7995000,
          8788000,
          5747000,
          7650000,
          5750000,
          5000000,
          5000000,
          5750000,
          5750000,
          5000000,
          6950000,
          6950000,
          7250000,
          7150000,
          7650000,
          5000000,
          7650000,
          7650000,
          5000000,
          6300000,
          11378610,
          5758000,
          7762230,
          7250000,
          5750000,
          7650000,
          5000000,
          7650000,
          5750000,
          7250000,
          5000000,
          5750000,
          7250000,
          5000000,
          6950000,
          5000000,
          5750000,
          8255070,
          7650000,
          5000000,
          7000000,
          5000000,
          5750000,
          5750000,
          5000000,
          7650000,
          5750000,
          7650000,
          6950000,
          5700000,
          7650000,
          5750000,
          5750000,
          5000000,
          7650000,
          5750000,
          5000000,
          7515810,
          7515810,
          7650000,
          5750000,
          7250000,
          5000000,
          7250000,
          6950000,
          7650000,
          6950000,
          7650000,
          5750000,
          7250000,
          7250000,
          7250000,
          7250000,
          5000000,
          6950000,
          6950000,
          7650000,
          6950000,
          6950000,
          7650000,
          5000000,
          6950000,
          7990000,
          8800000,
          5755000,
          5746000
         ],
         "xaxis": "x",
         "yaxis": "y"
        },
        {
         "alignmentgroup": "True",
         "hovertemplate": "source=LKPP<br>price=%{x}<extra></extra>",
         "legendgroup": "LKPP",
         "marker": {
          "color": "#636efa"
         },
         "name": "LKPP",
         "notched": true,
         "offsetgroup": "LKPP",
         "opacity": 0.75,
         "showlegend": false,
         "type": "box",
         "x": [
          6950000,
          6950000,
          6950000,
          6950000,
          6950000,
          6950000,
          6950000,
          6950000,
          6950000,
          7620000,
          7620000,
          7620000,
          7620000,
          7620000,
          7620000,
          7620000,
          7620000,
          7620000,
          7650000,
          7650000,
          7650000,
          7650000,
          6950000,
          6950000,
          6950000,
          6950000,
          8650000,
          8650000,
          8650000,
          8650000,
          6795000,
          6795000,
          6795000,
          6795000,
          7250000,
          7250000,
          7250000,
          7250000,
          7250000,
          7250000,
          7250000,
          7250000,
          7250000,
          7250000,
          7250000,
          7250000,
          7250000,
          7250000,
          7250000,
          7250000,
          5000000,
          5000000,
          5000000,
          5000000,
          7950000,
          7950000,
          7950000,
          7950000,
          8650000,
          8650000,
          8650000,
          8650000,
          7950000,
          7950000,
          7950000,
          7950000,
          5750000,
          5750000,
          5750000,
          5750000,
          5750000,
          5750000,
          5750000,
          5750000,
          5750000,
          5750000,
          5750000,
          5750000,
          5750000,
          5750000,
          5750000,
          5750000,
          5750000,
          5750000,
          5750000,
          5750000,
          7650000,
          5000000,
          5550000,
          6300000,
          7650000,
          8650000,
          5750000,
          7995000,
          8788000,
          5747000,
          7650000,
          5750000,
          5000000,
          5000000,
          5750000,
          5750000,
          5000000,
          6950000,
          6950000,
          7250000,
          7150000,
          7650000,
          5000000,
          7650000,
          7650000,
          5000000,
          6300000,
          11378610,
          5758000,
          7762230,
          7250000,
          5750000,
          7650000,
          5000000,
          7650000,
          5750000,
          7250000,
          5000000,
          5750000,
          7250000,
          5000000,
          6950000,
          5000000,
          5750000,
          8255070,
          7650000,
          5000000,
          7000000,
          5000000,
          5750000,
          5750000,
          5000000,
          7650000,
          5750000,
          7650000,
          6950000,
          5700000,
          7650000,
          5750000,
          5750000,
          5000000,
          7650000,
          5750000,
          5000000,
          7515810,
          7515810,
          7650000,
          5750000,
          7250000,
          5000000,
          7250000,
          6950000,
          7650000,
          6950000,
          7650000,
          5750000,
          7250000,
          7250000,
          7250000,
          7250000,
          5000000,
          6950000,
          6950000,
          7650000,
          6950000,
          6950000,
          7650000,
          5000000,
          6950000,
          7990000,
          8800000,
          5755000,
          5746000
         ],
         "xaxis": "x2",
         "yaxis": "y2"
        },
        {
         "alignmentgroup": "True",
         "bingroup": "x",
         "hovertemplate": "source=Tokopedia<br>price=%{x}<br>count=%{y}<extra></extra>",
         "legendgroup": "Tokopedia",
         "marker": {
          "color": "#EF553B",
          "pattern": {
           "shape": ""
          }
         },
         "name": "Tokopedia",
         "offsetgroup": "Tokopedia",
         "opacity": 0.75,
         "orientation": "v",
         "showlegend": true,
         "type": "histogram",
         "x": [
          3250000,
          3500000,
          1200000,
          5250000,
          5250000,
          5250000,
          5250000,
          6810000,
          7110000,
          4750000,
          6773000,
          5350000,
          5350000,
          5350000,
          5350000,
          4560000,
          2000000
         ],
         "xaxis": "x",
         "yaxis": "y"
        },
        {
         "alignmentgroup": "True",
         "hovertemplate": "source=Tokopedia<br>price=%{x}<extra></extra>",
         "legendgroup": "Tokopedia",
         "marker": {
          "color": "#EF553B"
         },
         "name": "Tokopedia",
         "notched": true,
         "offsetgroup": "Tokopedia",
         "opacity": 0.75,
         "showlegend": false,
         "type": "box",
         "x": [
          3250000,
          3500000,
          1200000,
          5250000,
          5250000,
          5250000,
          5250000,
          6810000,
          7110000,
          4750000,
          6773000,
          5350000,
          5350000,
          5350000,
          5350000,
          4560000,
          2000000
         ],
         "xaxis": "x2",
         "yaxis": "y2"
        }
       ],
       "layout": {
        "barmode": "overlay",
        "legend": {
         "title": {
          "text": "source"
         },
         "tracegroupgap": 0
        },
        "margin": {
         "t": 60
        },
        "template": {
         "data": {
          "bar": [
           {
            "error_x": {
             "color": "#2a3f5f"
            },
            "error_y": {
             "color": "#2a3f5f"
            },
            "marker": {
             "line": {
              "color": "#E5ECF6",
              "width": 0.5
             },
             "pattern": {
              "fillmode": "overlay",
              "size": 10,
              "solidity": 0.2
             }
            },
            "type": "bar"
           }
          ],
          "barpolar": [
           {
            "marker": {
             "line": {
              "color": "#E5ECF6",
              "width": 0.5
             },
             "pattern": {
              "fillmode": "overlay",
              "size": 10,
              "solidity": 0.2
             }
            },
            "type": "barpolar"
           }
          ],
          "carpet": [
           {
            "aaxis": {
             "endlinecolor": "#2a3f5f",
             "gridcolor": "white",
             "linecolor": "white",
             "minorgridcolor": "white",
             "startlinecolor": "#2a3f5f"
            },
            "baxis": {
             "endlinecolor": "#2a3f5f",
             "gridcolor": "white",
             "linecolor": "white",
             "minorgridcolor": "white",
             "startlinecolor": "#2a3f5f"
            },
            "type": "carpet"
           }
          ],
          "choropleth": [
           {
            "colorbar": {
             "outlinewidth": 0,
             "ticks": ""
            },
            "type": "choropleth"
           }
          ],
          "contour": [
           {
            "colorbar": {
             "outlinewidth": 0,
             "ticks": ""
            },
            "colorscale": [
             [
              0,
              "#0d0887"
             ],
             [
              0.1111111111111111,
              "#46039f"
             ],
             [
              0.2222222222222222,
              "#7201a8"
             ],
             [
              0.3333333333333333,
              "#9c179e"
             ],
             [
              0.4444444444444444,
              "#bd3786"
             ],
             [
              0.5555555555555556,
              "#d8576b"
             ],
             [
              0.6666666666666666,
              "#ed7953"
             ],
             [
              0.7777777777777778,
              "#fb9f3a"
             ],
             [
              0.8888888888888888,
              "#fdca26"
             ],
             [
              1,
              "#f0f921"
             ]
            ],
            "type": "contour"
           }
          ],
          "contourcarpet": [
           {
            "colorbar": {
             "outlinewidth": 0,
             "ticks": ""
            },
            "type": "contourcarpet"
           }
          ],
          "heatmap": [
           {
            "colorbar": {
             "outlinewidth": 0,
             "ticks": ""
            },
            "colorscale": [
             [
              0,
              "#0d0887"
             ],
             [
              0.1111111111111111,
              "#46039f"
             ],
             [
              0.2222222222222222,
              "#7201a8"
             ],
             [
              0.3333333333333333,
              "#9c179e"
             ],
             [
              0.4444444444444444,
              "#bd3786"
             ],
             [
              0.5555555555555556,
              "#d8576b"
             ],
             [
              0.6666666666666666,
              "#ed7953"
             ],
             [
              0.7777777777777778,
              "#fb9f3a"
             ],
             [
              0.8888888888888888,
              "#fdca26"
             ],
             [
              1,
              "#f0f921"
             ]
            ],
            "type": "heatmap"
           }
          ],
          "heatmapgl": [
           {
            "colorbar": {
             "outlinewidth": 0,
             "ticks": ""
            },
            "colorscale": [
             [
              0,
              "#0d0887"
             ],
             [
              0.1111111111111111,
              "#46039f"
             ],
             [
              0.2222222222222222,
              "#7201a8"
             ],
             [
              0.3333333333333333,
              "#9c179e"
             ],
             [
              0.4444444444444444,
              "#bd3786"
             ],
             [
              0.5555555555555556,
              "#d8576b"
             ],
             [
              0.6666666666666666,
              "#ed7953"
             ],
             [
              0.7777777777777778,
              "#fb9f3a"
             ],
             [
              0.8888888888888888,
              "#fdca26"
             ],
             [
              1,
              "#f0f921"
             ]
            ],
            "type": "heatmapgl"
           }
          ],
          "histogram": [
           {
            "marker": {
             "pattern": {
              "fillmode": "overlay",
              "size": 10,
              "solidity": 0.2
             }
            },
            "type": "histogram"
           }
          ],
          "histogram2d": [
           {
            "colorbar": {
             "outlinewidth": 0,
             "ticks": ""
            },
            "colorscale": [
             [
              0,
              "#0d0887"
             ],
             [
              0.1111111111111111,
              "#46039f"
             ],
             [
              0.2222222222222222,
              "#7201a8"
             ],
             [
              0.3333333333333333,
              "#9c179e"
             ],
             [
              0.4444444444444444,
              "#bd3786"
             ],
             [
              0.5555555555555556,
              "#d8576b"
             ],
             [
              0.6666666666666666,
              "#ed7953"
             ],
             [
              0.7777777777777778,
              "#fb9f3a"
             ],
             [
              0.8888888888888888,
              "#fdca26"
             ],
             [
              1,
              "#f0f921"
             ]
            ],
            "type": "histogram2d"
           }
          ],
          "histogram2dcontour": [
           {
            "colorbar": {
             "outlinewidth": 0,
             "ticks": ""
            },
            "colorscale": [
             [
              0,
              "#0d0887"
             ],
             [
              0.1111111111111111,
              "#46039f"
             ],
             [
              0.2222222222222222,
              "#7201a8"
             ],
             [
              0.3333333333333333,
              "#9c179e"
             ],
             [
              0.4444444444444444,
              "#bd3786"
             ],
             [
              0.5555555555555556,
              "#d8576b"
             ],
             [
              0.6666666666666666,
              "#ed7953"
             ],
             [
              0.7777777777777778,
              "#fb9f3a"
             ],
             [
              0.8888888888888888,
              "#fdca26"
             ],
             [
              1,
              "#f0f921"
             ]
            ],
            "type": "histogram2dcontour"
           }
          ],
          "mesh3d": [
           {
            "colorbar": {
             "outlinewidth": 0,
             "ticks": ""
            },
            "type": "mesh3d"
           }
          ],
          "parcoords": [
           {
            "line": {
             "colorbar": {
              "outlinewidth": 0,
              "ticks": ""
             }
            },
            "type": "parcoords"
           }
          ],
          "pie": [
           {
            "automargin": true,
            "type": "pie"
           }
          ],
          "scatter": [
           {
            "fillpattern": {
             "fillmode": "overlay",
             "size": 10,
             "solidity": 0.2
            },
            "type": "scatter"
           }
          ],
          "scatter3d": [
           {
            "line": {
             "colorbar": {
              "outlinewidth": 0,
              "ticks": ""
             }
            },
            "marker": {
             "colorbar": {
              "outlinewidth": 0,
              "ticks": ""
             }
            },
            "type": "scatter3d"
           }
          ],
          "scattercarpet": [
           {
            "marker": {
             "colorbar": {
              "outlinewidth": 0,
              "ticks": ""
             }
            },
            "type": "scattercarpet"
           }
          ],
          "scattergeo": [
           {
            "marker": {
             "colorbar": {
              "outlinewidth": 0,
              "ticks": ""
             }
            },
            "type": "scattergeo"
           }
          ],
          "scattergl": [
           {
            "marker": {
             "colorbar": {
              "outlinewidth": 0,
              "ticks": ""
             }
            },
            "type": "scattergl"
           }
          ],
          "scattermapbox": [
           {
            "marker": {
             "colorbar": {
              "outlinewidth": 0,
              "ticks": ""
             }
            },
            "type": "scattermapbox"
           }
          ],
          "scatterpolar": [
           {
            "marker": {
             "colorbar": {
              "outlinewidth": 0,
              "ticks": ""
             }
            },
            "type": "scatterpolar"
           }
          ],
          "scatterpolargl": [
           {
            "marker": {
             "colorbar": {
              "outlinewidth": 0,
              "ticks": ""
             }
            },
            "type": "scatterpolargl"
           }
          ],
          "scatterternary": [
           {
            "marker": {
             "colorbar": {
              "outlinewidth": 0,
              "ticks": ""
             }
            },
            "type": "scatterternary"
           }
          ],
          "surface": [
           {
            "colorbar": {
             "outlinewidth": 0,
             "ticks": ""
            },
            "colorscale": [
             [
              0,
              "#0d0887"
             ],
             [
              0.1111111111111111,
              "#46039f"
             ],
             [
              0.2222222222222222,
              "#7201a8"
             ],
             [
              0.3333333333333333,
              "#9c179e"
             ],
             [
              0.4444444444444444,
              "#bd3786"
             ],
             [
              0.5555555555555556,
              "#d8576b"
             ],
             [
              0.6666666666666666,
              "#ed7953"
             ],
             [
              0.7777777777777778,
              "#fb9f3a"
             ],
             [
              0.8888888888888888,
              "#fdca26"
             ],
             [
              1,
              "#f0f921"
             ]
            ],
            "type": "surface"
           }
          ],
          "table": [
           {
            "cells": {
             "fill": {
              "color": "#EBF0F8"
             },
             "line": {
              "color": "white"
             }
            },
            "header": {
             "fill": {
              "color": "#C8D4E3"
             },
             "line": {
              "color": "white"
             }
            },
            "type": "table"
           }
          ]
         },
         "layout": {
          "annotationdefaults": {
           "arrowcolor": "#2a3f5f",
           "arrowhead": 0,
           "arrowwidth": 1
          },
          "autotypenumbers": "strict",
          "coloraxis": {
           "colorbar": {
            "outlinewidth": 0,
            "ticks": ""
           }
          },
          "colorscale": {
           "diverging": [
            [
             0,
             "#8e0152"
            ],
            [
             0.1,
             "#c51b7d"
            ],
            [
             0.2,
             "#de77ae"
            ],
            [
             0.3,
             "#f1b6da"
            ],
            [
             0.4,
             "#fde0ef"
            ],
            [
             0.5,
             "#f7f7f7"
            ],
            [
             0.6,
             "#e6f5d0"
            ],
            [
             0.7,
             "#b8e186"
            ],
            [
             0.8,
             "#7fbc41"
            ],
            [
             0.9,
             "#4d9221"
            ],
            [
             1,
             "#276419"
            ]
           ],
           "sequential": [
            [
             0,
             "#0d0887"
            ],
            [
             0.1111111111111111,
             "#46039f"
            ],
            [
             0.2222222222222222,
             "#7201a8"
            ],
            [
             0.3333333333333333,
             "#9c179e"
            ],
            [
             0.4444444444444444,
             "#bd3786"
            ],
            [
             0.5555555555555556,
             "#d8576b"
            ],
            [
             0.6666666666666666,
             "#ed7953"
            ],
            [
             0.7777777777777778,
             "#fb9f3a"
            ],
            [
             0.8888888888888888,
             "#fdca26"
            ],
            [
             1,
             "#f0f921"
            ]
           ],
           "sequentialminus": [
            [
             0,
             "#0d0887"
            ],
            [
             0.1111111111111111,
             "#46039f"
            ],
            [
             0.2222222222222222,
             "#7201a8"
            ],
            [
             0.3333333333333333,
             "#9c179e"
            ],
            [
             0.4444444444444444,
             "#bd3786"
            ],
            [
             0.5555555555555556,
             "#d8576b"
            ],
            [
             0.6666666666666666,
             "#ed7953"
            ],
            [
             0.7777777777777778,
             "#fb9f3a"
            ],
            [
             0.8888888888888888,
             "#fdca26"
            ],
            [
             1,
             "#f0f921"
            ]
           ]
          },
          "colorway": [
           "#636efa",
           "#EF553B",
           "#00cc96",
           "#ab63fa",
           "#FFA15A",
           "#19d3f3",
           "#FF6692",
           "#B6E880",
           "#FF97FF",
           "#FECB52"
          ],
          "font": {
           "color": "#2a3f5f"
          },
          "geo": {
           "bgcolor": "white",
           "lakecolor": "white",
           "landcolor": "#E5ECF6",
           "showlakes": true,
           "showland": true,
           "subunitcolor": "white"
          },
          "hoverlabel": {
           "align": "left"
          },
          "hovermode": "closest",
          "mapbox": {
           "style": "light"
          },
          "paper_bgcolor": "white",
          "plot_bgcolor": "#E5ECF6",
          "polar": {
           "angularaxis": {
            "gridcolor": "white",
            "linecolor": "white",
            "ticks": ""
           },
           "bgcolor": "#E5ECF6",
           "radialaxis": {
            "gridcolor": "white",
            "linecolor": "white",
            "ticks": ""
           }
          },
          "scene": {
           "xaxis": {
            "backgroundcolor": "#E5ECF6",
            "gridcolor": "white",
            "gridwidth": 2,
            "linecolor": "white",
            "showbackground": true,
            "ticks": "",
            "zerolinecolor": "white"
           },
           "yaxis": {
            "backgroundcolor": "#E5ECF6",
            "gridcolor": "white",
            "gridwidth": 2,
            "linecolor": "white",
            "showbackground": true,
            "ticks": "",
            "zerolinecolor": "white"
           },
           "zaxis": {
            "backgroundcolor": "#E5ECF6",
            "gridcolor": "white",
            "gridwidth": 2,
            "linecolor": "white",
            "showbackground": true,
            "ticks": "",
            "zerolinecolor": "white"
           }
          },
          "shapedefaults": {
           "line": {
            "color": "#2a3f5f"
           }
          },
          "ternary": {
           "aaxis": {
            "gridcolor": "white",
            "linecolor": "white",
            "ticks": ""
           },
           "baxis": {
            "gridcolor": "white",
            "linecolor": "white",
            "ticks": ""
           },
           "bgcolor": "#E5ECF6",
           "caxis": {
            "gridcolor": "white",
            "linecolor": "white",
            "ticks": ""
           }
          },
          "title": {
           "x": 0.05
          },
          "xaxis": {
           "automargin": true,
           "gridcolor": "white",
           "linecolor": "white",
           "ticks": "",
           "title": {
            "standoff": 15
           },
           "zerolinecolor": "white",
           "zerolinewidth": 2
          },
          "yaxis": {
           "automargin": true,
           "gridcolor": "white",
           "linecolor": "white",
           "ticks": "",
           "title": {
            "standoff": 15
           },
           "zerolinecolor": "white",
           "zerolinewidth": 2
          }
         }
        },
        "xaxis": {
         "anchor": "y",
         "domain": [
          0,
          1
         ],
         "title": {
          "text": "price"
         }
        },
        "xaxis2": {
         "anchor": "y2",
         "domain": [
          0,
          1
         ],
         "matches": "x",
         "showgrid": true,
         "showticklabels": false
        },
        "yaxis": {
         "anchor": "x",
         "domain": [
          0,
          0.7326
         ],
         "title": {
          "text": "count"
         }
        },
        "yaxis2": {
         "anchor": "x2",
         "domain": [
          0.7426,
          1
         ],
         "matches": "y2",
         "showgrid": false,
         "showline": false,
         "showticklabels": false,
         "ticks": ""
        }
       }
      },
      "text/html": [
       "<div>                            <div id=\"07c8b3f9-a869-42ef-b3f4-1bf02b45656f\" class=\"plotly-graph-div\" style=\"height:525px; width:100%;\"></div>            <script type=\"text/javascript\">                require([\"plotly\"], function(Plotly) {                    window.PLOTLYENV=window.PLOTLYENV || {};                                    if (document.getElementById(\"07c8b3f9-a869-42ef-b3f4-1bf02b45656f\")) {                    Plotly.newPlot(                        \"07c8b3f9-a869-42ef-b3f4-1bf02b45656f\",                        [{\"alignmentgroup\":\"True\",\"bingroup\":\"x\",\"hovertemplate\":\"source=LKPP\\u003cbr\\u003eprice=%{x}\\u003cbr\\u003ecount=%{y}\\u003cextra\\u003e\\u003c\\u002fextra\\u003e\",\"legendgroup\":\"LKPP\",\"marker\":{\"color\":\"#636efa\",\"pattern\":{\"shape\":\"\"}},\"name\":\"LKPP\",\"offsetgroup\":\"LKPP\",\"orientation\":\"v\",\"showlegend\":true,\"x\":[6950000,6950000,6950000,6950000,6950000,6950000,6950000,6950000,6950000,7620000,7620000,7620000,7620000,7620000,7620000,7620000,7620000,7620000,7650000,7650000,7650000,7650000,6950000,6950000,6950000,6950000,8650000,8650000,8650000,8650000,6795000,6795000,6795000,6795000,7250000,7250000,7250000,7250000,7250000,7250000,7250000,7250000,7250000,7250000,7250000,7250000,7250000,7250000,7250000,7250000,5000000,5000000,5000000,5000000,7950000,7950000,7950000,7950000,8650000,8650000,8650000,8650000,7950000,7950000,7950000,7950000,5750000,5750000,5750000,5750000,5750000,5750000,5750000,5750000,5750000,5750000,5750000,5750000,5750000,5750000,5750000,5750000,5750000,5750000,5750000,5750000,7650000,5000000,5550000,6300000,7650000,8650000,5750000,7995000,8788000,5747000,7650000,5750000,5000000,5000000,5750000,5750000,5000000,6950000,6950000,7250000,7150000,7650000,5000000,7650000,7650000,5000000,6300000,11378610,5758000,7762230,7250000,5750000,7650000,5000000,7650000,5750000,7250000,5000000,5750000,7250000,5000000,6950000,5000000,5750000,8255070,7650000,5000000,7000000,5000000,5750000,5750000,5000000,7650000,5750000,7650000,6950000,5700000,7650000,5750000,5750000,5000000,7650000,5750000,5000000,7515810,7515810,7650000,5750000,7250000,5000000,7250000,6950000,7650000,6950000,7650000,5750000,7250000,7250000,7250000,7250000,5000000,6950000,6950000,7650000,6950000,6950000,7650000,5000000,6950000,7990000,8800000,5755000,5746000],\"xaxis\":\"x\",\"yaxis\":\"y\",\"type\":\"histogram\",\"opacity\":0.75},{\"alignmentgroup\":\"True\",\"hovertemplate\":\"source=LKPP\\u003cbr\\u003eprice=%{x}\\u003cextra\\u003e\\u003c\\u002fextra\\u003e\",\"legendgroup\":\"LKPP\",\"marker\":{\"color\":\"#636efa\"},\"name\":\"LKPP\",\"notched\":true,\"offsetgroup\":\"LKPP\",\"showlegend\":false,\"x\":[6950000,6950000,6950000,6950000,6950000,6950000,6950000,6950000,6950000,7620000,7620000,7620000,7620000,7620000,7620000,7620000,7620000,7620000,7650000,7650000,7650000,7650000,6950000,6950000,6950000,6950000,8650000,8650000,8650000,8650000,6795000,6795000,6795000,6795000,7250000,7250000,7250000,7250000,7250000,7250000,7250000,7250000,7250000,7250000,7250000,7250000,7250000,7250000,7250000,7250000,5000000,5000000,5000000,5000000,7950000,7950000,7950000,7950000,8650000,8650000,8650000,8650000,7950000,7950000,7950000,7950000,5750000,5750000,5750000,5750000,5750000,5750000,5750000,5750000,5750000,5750000,5750000,5750000,5750000,5750000,5750000,5750000,5750000,5750000,5750000,5750000,7650000,5000000,5550000,6300000,7650000,8650000,5750000,7995000,8788000,5747000,7650000,5750000,5000000,5000000,5750000,5750000,5000000,6950000,6950000,7250000,7150000,7650000,5000000,7650000,7650000,5000000,6300000,11378610,5758000,7762230,7250000,5750000,7650000,5000000,7650000,5750000,7250000,5000000,5750000,7250000,5000000,6950000,5000000,5750000,8255070,7650000,5000000,7000000,5000000,5750000,5750000,5000000,7650000,5750000,7650000,6950000,5700000,7650000,5750000,5750000,5000000,7650000,5750000,5000000,7515810,7515810,7650000,5750000,7250000,5000000,7250000,6950000,7650000,6950000,7650000,5750000,7250000,7250000,7250000,7250000,5000000,6950000,6950000,7650000,6950000,6950000,7650000,5000000,6950000,7990000,8800000,5755000,5746000],\"xaxis\":\"x2\",\"yaxis\":\"y2\",\"type\":\"box\",\"opacity\":0.75},{\"alignmentgroup\":\"True\",\"bingroup\":\"x\",\"hovertemplate\":\"source=Tokopedia\\u003cbr\\u003eprice=%{x}\\u003cbr\\u003ecount=%{y}\\u003cextra\\u003e\\u003c\\u002fextra\\u003e\",\"legendgroup\":\"Tokopedia\",\"marker\":{\"color\":\"#EF553B\",\"pattern\":{\"shape\":\"\"}},\"name\":\"Tokopedia\",\"offsetgroup\":\"Tokopedia\",\"orientation\":\"v\",\"showlegend\":true,\"x\":[3250000,3500000,1200000,5250000,5250000,5250000,5250000,6810000,7110000,4750000,6773000,5350000,5350000,5350000,5350000,4560000,2000000],\"xaxis\":\"x\",\"yaxis\":\"y\",\"type\":\"histogram\",\"opacity\":0.75},{\"alignmentgroup\":\"True\",\"hovertemplate\":\"source=Tokopedia\\u003cbr\\u003eprice=%{x}\\u003cextra\\u003e\\u003c\\u002fextra\\u003e\",\"legendgroup\":\"Tokopedia\",\"marker\":{\"color\":\"#EF553B\"},\"name\":\"Tokopedia\",\"notched\":true,\"offsetgroup\":\"Tokopedia\",\"showlegend\":false,\"x\":[3250000,3500000,1200000,5250000,5250000,5250000,5250000,6810000,7110000,4750000,6773000,5350000,5350000,5350000,5350000,4560000,2000000],\"xaxis\":\"x2\",\"yaxis\":\"y2\",\"type\":\"box\",\"opacity\":0.75}],                        {\"template\":{\"data\":{\"histogram2dcontour\":[{\"type\":\"histogram2dcontour\",\"colorbar\":{\"outlinewidth\":0,\"ticks\":\"\"},\"colorscale\":[[0.0,\"#0d0887\"],[0.1111111111111111,\"#46039f\"],[0.2222222222222222,\"#7201a8\"],[0.3333333333333333,\"#9c179e\"],[0.4444444444444444,\"#bd3786\"],[0.5555555555555556,\"#d8576b\"],[0.6666666666666666,\"#ed7953\"],[0.7777777777777778,\"#fb9f3a\"],[0.8888888888888888,\"#fdca26\"],[1.0,\"#f0f921\"]]}],\"choropleth\":[{\"type\":\"choropleth\",\"colorbar\":{\"outlinewidth\":0,\"ticks\":\"\"}}],\"histogram2d\":[{\"type\":\"histogram2d\",\"colorbar\":{\"outlinewidth\":0,\"ticks\":\"\"},\"colorscale\":[[0.0,\"#0d0887\"],[0.1111111111111111,\"#46039f\"],[0.2222222222222222,\"#7201a8\"],[0.3333333333333333,\"#9c179e\"],[0.4444444444444444,\"#bd3786\"],[0.5555555555555556,\"#d8576b\"],[0.6666666666666666,\"#ed7953\"],[0.7777777777777778,\"#fb9f3a\"],[0.8888888888888888,\"#fdca26\"],[1.0,\"#f0f921\"]]}],\"heatmap\":[{\"type\":\"heatmap\",\"colorbar\":{\"outlinewidth\":0,\"ticks\":\"\"},\"colorscale\":[[0.0,\"#0d0887\"],[0.1111111111111111,\"#46039f\"],[0.2222222222222222,\"#7201a8\"],[0.3333333333333333,\"#9c179e\"],[0.4444444444444444,\"#bd3786\"],[0.5555555555555556,\"#d8576b\"],[0.6666666666666666,\"#ed7953\"],[0.7777777777777778,\"#fb9f3a\"],[0.8888888888888888,\"#fdca26\"],[1.0,\"#f0f921\"]]}],\"heatmapgl\":[{\"type\":\"heatmapgl\",\"colorbar\":{\"outlinewidth\":0,\"ticks\":\"\"},\"colorscale\":[[0.0,\"#0d0887\"],[0.1111111111111111,\"#46039f\"],[0.2222222222222222,\"#7201a8\"],[0.3333333333333333,\"#9c179e\"],[0.4444444444444444,\"#bd3786\"],[0.5555555555555556,\"#d8576b\"],[0.6666666666666666,\"#ed7953\"],[0.7777777777777778,\"#fb9f3a\"],[0.8888888888888888,\"#fdca26\"],[1.0,\"#f0f921\"]]}],\"contourcarpet\":[{\"type\":\"contourcarpet\",\"colorbar\":{\"outlinewidth\":0,\"ticks\":\"\"}}],\"contour\":[{\"type\":\"contour\",\"colorbar\":{\"outlinewidth\":0,\"ticks\":\"\"},\"colorscale\":[[0.0,\"#0d0887\"],[0.1111111111111111,\"#46039f\"],[0.2222222222222222,\"#7201a8\"],[0.3333333333333333,\"#9c179e\"],[0.4444444444444444,\"#bd3786\"],[0.5555555555555556,\"#d8576b\"],[0.6666666666666666,\"#ed7953\"],[0.7777777777777778,\"#fb9f3a\"],[0.8888888888888888,\"#fdca26\"],[1.0,\"#f0f921\"]]}],\"surface\":[{\"type\":\"surface\",\"colorbar\":{\"outlinewidth\":0,\"ticks\":\"\"},\"colorscale\":[[0.0,\"#0d0887\"],[0.1111111111111111,\"#46039f\"],[0.2222222222222222,\"#7201a8\"],[0.3333333333333333,\"#9c179e\"],[0.4444444444444444,\"#bd3786\"],[0.5555555555555556,\"#d8576b\"],[0.6666666666666666,\"#ed7953\"],[0.7777777777777778,\"#fb9f3a\"],[0.8888888888888888,\"#fdca26\"],[1.0,\"#f0f921\"]]}],\"mesh3d\":[{\"type\":\"mesh3d\",\"colorbar\":{\"outlinewidth\":0,\"ticks\":\"\"}}],\"scatter\":[{\"fillpattern\":{\"fillmode\":\"overlay\",\"size\":10,\"solidity\":0.2},\"type\":\"scatter\"}],\"parcoords\":[{\"type\":\"parcoords\",\"line\":{\"colorbar\":{\"outlinewidth\":0,\"ticks\":\"\"}}}],\"scatterpolargl\":[{\"type\":\"scatterpolargl\",\"marker\":{\"colorbar\":{\"outlinewidth\":0,\"ticks\":\"\"}}}],\"bar\":[{\"error_x\":{\"color\":\"#2a3f5f\"},\"error_y\":{\"color\":\"#2a3f5f\"},\"marker\":{\"line\":{\"color\":\"#E5ECF6\",\"width\":0.5},\"pattern\":{\"fillmode\":\"overlay\",\"size\":10,\"solidity\":0.2}},\"type\":\"bar\"}],\"scattergeo\":[{\"type\":\"scattergeo\",\"marker\":{\"colorbar\":{\"outlinewidth\":0,\"ticks\":\"\"}}}],\"scatterpolar\":[{\"type\":\"scatterpolar\",\"marker\":{\"colorbar\":{\"outlinewidth\":0,\"ticks\":\"\"}}}],\"histogram\":[{\"marker\":{\"pattern\":{\"fillmode\":\"overlay\",\"size\":10,\"solidity\":0.2}},\"type\":\"histogram\"}],\"scattergl\":[{\"type\":\"scattergl\",\"marker\":{\"colorbar\":{\"outlinewidth\":0,\"ticks\":\"\"}}}],\"scatter3d\":[{\"type\":\"scatter3d\",\"line\":{\"colorbar\":{\"outlinewidth\":0,\"ticks\":\"\"}},\"marker\":{\"colorbar\":{\"outlinewidth\":0,\"ticks\":\"\"}}}],\"scattermapbox\":[{\"type\":\"scattermapbox\",\"marker\":{\"colorbar\":{\"outlinewidth\":0,\"ticks\":\"\"}}}],\"scatterternary\":[{\"type\":\"scatterternary\",\"marker\":{\"colorbar\":{\"outlinewidth\":0,\"ticks\":\"\"}}}],\"scattercarpet\":[{\"type\":\"scattercarpet\",\"marker\":{\"colorbar\":{\"outlinewidth\":0,\"ticks\":\"\"}}}],\"carpet\":[{\"aaxis\":{\"endlinecolor\":\"#2a3f5f\",\"gridcolor\":\"white\",\"linecolor\":\"white\",\"minorgridcolor\":\"white\",\"startlinecolor\":\"#2a3f5f\"},\"baxis\":{\"endlinecolor\":\"#2a3f5f\",\"gridcolor\":\"white\",\"linecolor\":\"white\",\"minorgridcolor\":\"white\",\"startlinecolor\":\"#2a3f5f\"},\"type\":\"carpet\"}],\"table\":[{\"cells\":{\"fill\":{\"color\":\"#EBF0F8\"},\"line\":{\"color\":\"white\"}},\"header\":{\"fill\":{\"color\":\"#C8D4E3\"},\"line\":{\"color\":\"white\"}},\"type\":\"table\"}],\"barpolar\":[{\"marker\":{\"line\":{\"color\":\"#E5ECF6\",\"width\":0.5},\"pattern\":{\"fillmode\":\"overlay\",\"size\":10,\"solidity\":0.2}},\"type\":\"barpolar\"}],\"pie\":[{\"automargin\":true,\"type\":\"pie\"}]},\"layout\":{\"autotypenumbers\":\"strict\",\"colorway\":[\"#636efa\",\"#EF553B\",\"#00cc96\",\"#ab63fa\",\"#FFA15A\",\"#19d3f3\",\"#FF6692\",\"#B6E880\",\"#FF97FF\",\"#FECB52\"],\"font\":{\"color\":\"#2a3f5f\"},\"hovermode\":\"closest\",\"hoverlabel\":{\"align\":\"left\"},\"paper_bgcolor\":\"white\",\"plot_bgcolor\":\"#E5ECF6\",\"polar\":{\"bgcolor\":\"#E5ECF6\",\"angularaxis\":{\"gridcolor\":\"white\",\"linecolor\":\"white\",\"ticks\":\"\"},\"radialaxis\":{\"gridcolor\":\"white\",\"linecolor\":\"white\",\"ticks\":\"\"}},\"ternary\":{\"bgcolor\":\"#E5ECF6\",\"aaxis\":{\"gridcolor\":\"white\",\"linecolor\":\"white\",\"ticks\":\"\"},\"baxis\":{\"gridcolor\":\"white\",\"linecolor\":\"white\",\"ticks\":\"\"},\"caxis\":{\"gridcolor\":\"white\",\"linecolor\":\"white\",\"ticks\":\"\"}},\"coloraxis\":{\"colorbar\":{\"outlinewidth\":0,\"ticks\":\"\"}},\"colorscale\":{\"sequential\":[[0.0,\"#0d0887\"],[0.1111111111111111,\"#46039f\"],[0.2222222222222222,\"#7201a8\"],[0.3333333333333333,\"#9c179e\"],[0.4444444444444444,\"#bd3786\"],[0.5555555555555556,\"#d8576b\"],[0.6666666666666666,\"#ed7953\"],[0.7777777777777778,\"#fb9f3a\"],[0.8888888888888888,\"#fdca26\"],[1.0,\"#f0f921\"]],\"sequentialminus\":[[0.0,\"#0d0887\"],[0.1111111111111111,\"#46039f\"],[0.2222222222222222,\"#7201a8\"],[0.3333333333333333,\"#9c179e\"],[0.4444444444444444,\"#bd3786\"],[0.5555555555555556,\"#d8576b\"],[0.6666666666666666,\"#ed7953\"],[0.7777777777777778,\"#fb9f3a\"],[0.8888888888888888,\"#fdca26\"],[1.0,\"#f0f921\"]],\"diverging\":[[0,\"#8e0152\"],[0.1,\"#c51b7d\"],[0.2,\"#de77ae\"],[0.3,\"#f1b6da\"],[0.4,\"#fde0ef\"],[0.5,\"#f7f7f7\"],[0.6,\"#e6f5d0\"],[0.7,\"#b8e186\"],[0.8,\"#7fbc41\"],[0.9,\"#4d9221\"],[1,\"#276419\"]]},\"xaxis\":{\"gridcolor\":\"white\",\"linecolor\":\"white\",\"ticks\":\"\",\"title\":{\"standoff\":15},\"zerolinecolor\":\"white\",\"automargin\":true,\"zerolinewidth\":2},\"yaxis\":{\"gridcolor\":\"white\",\"linecolor\":\"white\",\"ticks\":\"\",\"title\":{\"standoff\":15},\"zerolinecolor\":\"white\",\"automargin\":true,\"zerolinewidth\":2},\"scene\":{\"xaxis\":{\"backgroundcolor\":\"#E5ECF6\",\"gridcolor\":\"white\",\"linecolor\":\"white\",\"showbackground\":true,\"ticks\":\"\",\"zerolinecolor\":\"white\",\"gridwidth\":2},\"yaxis\":{\"backgroundcolor\":\"#E5ECF6\",\"gridcolor\":\"white\",\"linecolor\":\"white\",\"showbackground\":true,\"ticks\":\"\",\"zerolinecolor\":\"white\",\"gridwidth\":2},\"zaxis\":{\"backgroundcolor\":\"#E5ECF6\",\"gridcolor\":\"white\",\"linecolor\":\"white\",\"showbackground\":true,\"ticks\":\"\",\"zerolinecolor\":\"white\",\"gridwidth\":2}},\"shapedefaults\":{\"line\":{\"color\":\"#2a3f5f\"}},\"annotationdefaults\":{\"arrowcolor\":\"#2a3f5f\",\"arrowhead\":0,\"arrowwidth\":1},\"geo\":{\"bgcolor\":\"white\",\"landcolor\":\"#E5ECF6\",\"subunitcolor\":\"white\",\"showland\":true,\"showlakes\":true,\"lakecolor\":\"white\"},\"title\":{\"x\":0.05},\"mapbox\":{\"style\":\"light\"}}},\"xaxis\":{\"anchor\":\"y\",\"domain\":[0.0,1.0],\"title\":{\"text\":\"price\"}},\"yaxis\":{\"anchor\":\"x\",\"domain\":[0.0,0.7326],\"title\":{\"text\":\"count\"}},\"xaxis2\":{\"anchor\":\"y2\",\"domain\":[0.0,1.0],\"matches\":\"x\",\"showticklabels\":false,\"showgrid\":true},\"yaxis2\":{\"anchor\":\"x2\",\"domain\":[0.7426,1.0],\"matches\":\"y2\",\"showticklabels\":false,\"showline\":false,\"ticks\":\"\",\"showgrid\":false},\"legend\":{\"title\":{\"text\":\"source\"},\"tracegroupgap\":0},\"margin\":{\"t\":60},\"barmode\":\"overlay\"},                        {\"responsive\": true}                    ).then(function(){\n",
       "                            \n",
       "var gd = document.getElementById('07c8b3f9-a869-42ef-b3f4-1bf02b45656f');\n",
       "var x = new MutationObserver(function (mutations, observer) {{\n",
       "        var display = window.getComputedStyle(gd).display;\n",
       "        if (!display || display === 'none') {{\n",
       "            console.log([gd, 'removed!']);\n",
       "            Plotly.purge(gd);\n",
       "            observer.disconnect();\n",
       "        }}\n",
       "}});\n",
       "\n",
       "// Listen for the removal of the full notebook cells\n",
       "var notebookContainer = gd.closest('#notebook-container');\n",
       "if (notebookContainer) {{\n",
       "    x.observe(notebookContainer, {childList: true});\n",
       "}}\n",
       "\n",
       "// Listen for the clearing of the current output cell\n",
       "var outputEl = gd.closest('.output');\n",
       "if (outputEl) {{\n",
       "    x.observe(outputEl, {childList: true});\n",
       "}}\n",
       "\n",
       "                        })                };                });            </script>        </div>"
      ]
     },
     "metadata": {},
     "output_type": "display_data"
    }
   ],
   "source": [
    "fig = px.histogram(subset_df, x=\"price\", color=\"source\", marginal=\"box\")\n",
    "fig.update_layout(barmode=\"overlay\")\n",
    "fig.update_traces(opacity=0.75)\n",
    "fig.show()"
   ]
  },
  {
   "cell_type": "code",
   "execution_count": 65,
   "metadata": {},
   "outputs": [
    {
     "data": {
      "text/html": [
       "<div>\n",
       "<style scoped>\n",
       "    .dataframe tbody tr th:only-of-type {\n",
       "        vertical-align: middle;\n",
       "    }\n",
       "\n",
       "    .dataframe tbody tr th {\n",
       "        vertical-align: top;\n",
       "    }\n",
       "\n",
       "    .dataframe thead th {\n",
       "        text-align: right;\n",
       "    }\n",
       "</style>\n",
       "<table border=\"1\" class=\"dataframe\">\n",
       "  <thead>\n",
       "    <tr style=\"text-align: right;\">\n",
       "      <th></th>\n",
       "      <th>count</th>\n",
       "      <th>mean</th>\n",
       "      <th>std</th>\n",
       "      <th>min</th>\n",
       "      <th>25%</th>\n",
       "      <th>50%</th>\n",
       "      <th>75%</th>\n",
       "      <th>max</th>\n",
       "    </tr>\n",
       "    <tr>\n",
       "      <th>source</th>\n",
       "      <th></th>\n",
       "      <th></th>\n",
       "      <th></th>\n",
       "      <th></th>\n",
       "      <th></th>\n",
       "      <th></th>\n",
       "      <th></th>\n",
       "      <th></th>\n",
       "    </tr>\n",
       "  </thead>\n",
       "  <tbody>\n",
       "    <tr>\n",
       "      <th>LKPP</th>\n",
       "      <td>179.0</td>\n",
       "      <td>6.786685e+06</td>\n",
       "      <td>1.121127e+06</td>\n",
       "      <td>5000000.0</td>\n",
       "      <td>5750000.0</td>\n",
       "      <td>6950000.0</td>\n",
       "      <td>7650000.0</td>\n",
       "      <td>11378610.0</td>\n",
       "    </tr>\n",
       "    <tr>\n",
       "      <th>Tokopedia</th>\n",
       "      <td>17.0</td>\n",
       "      <td>4.844294e+06</td>\n",
       "      <td>1.585248e+06</td>\n",
       "      <td>1200000.0</td>\n",
       "      <td>4560000.0</td>\n",
       "      <td>5250000.0</td>\n",
       "      <td>5350000.0</td>\n",
       "      <td>7110000.0</td>\n",
       "    </tr>\n",
       "  </tbody>\n",
       "</table>\n",
       "</div>"
      ],
      "text/plain": [
       "           count          mean           std        min        25%        50%  \\\n",
       "source                                                                          \n",
       "LKPP       179.0  6.786685e+06  1.121127e+06  5000000.0  5750000.0  6950000.0   \n",
       "Tokopedia   17.0  4.844294e+06  1.585248e+06  1200000.0  4560000.0  5250000.0   \n",
       "\n",
       "                 75%         max  \n",
       "source                            \n",
       "LKPP       7650000.0  11378610.0  \n",
       "Tokopedia  5350000.0   7110000.0  "
      ]
     },
     "execution_count": 65,
     "metadata": {},
     "output_type": "execute_result"
    }
   ],
   "source": [
    "subset_df.groupby(\"source\")[\"price\"].describe()"
   ]
  },
  {
   "cell_type": "code",
   "execution_count": 66,
   "metadata": {},
   "outputs": [
    {
     "data": {
      "text/plain": [
       "TtestResult(statistic=np.float64(6.561557249874629), pvalue=np.float64(4.73150515004561e-10), df=np.float64(194.0))"
      ]
     },
     "execution_count": 66,
     "metadata": {},
     "output_type": "execute_result"
    }
   ],
   "source": [
    "stats.ttest_ind(subset_df[subset_df[\"source\"] == \"LKPP\"][\"price\"], subset_df[subset_df[\"source\"] == \"Tokopedia\"][\"price\"])"
   ]
  },
  {
   "cell_type": "code",
   "execution_count": 67,
   "metadata": {},
   "outputs": [
    {
     "data": {
      "text/plain": [
       "TtestResult(statistic=np.float64(20.337391791033042), pvalue=np.float64(4.411184041990669e-50), df=np.int64(195))"
      ]
     },
     "execution_count": 67,
     "metadata": {},
     "output_type": "execute_result"
    }
   ],
   "source": [
    "stats.ttest_1samp(subset_df[\"price\"], 4750000)"
   ]
  },
  {
   "cell_type": "code",
   "execution_count": null,
   "metadata": {},
   "outputs": [],
   "source": []
  }
 ],
 "metadata": {
  "kernelspec": {
   "display_name": ".venv",
   "language": "python",
   "name": "python3"
  },
  "language_info": {
   "codemirror_mode": {
    "name": "ipython",
    "version": 3
   },
   "file_extension": ".py",
   "mimetype": "text/x-python",
   "name": "python",
   "nbconvert_exporter": "python",
   "pygments_lexer": "ipython3",
   "version": "3.11.9"
  }
 },
 "nbformat": 4,
 "nbformat_minor": 2
}
