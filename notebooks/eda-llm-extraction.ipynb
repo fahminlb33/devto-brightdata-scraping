{
 "cells": [
  {
   "cell_type": "code",
   "execution_count": 1,
   "metadata": {},
   "outputs": [],
   "source": [
    "# OPTIONAL\n",
    "# import os\n",
    "# os.environ[\"MLFLOW_TRACKING_USERNAME\"] = \"\"\n",
    "# os.environ[\"MLFLOW_TRACKING_PASSWORD\"] = \"\""
   ]
  },
  {
   "cell_type": "code",
   "execution_count": 2,
   "metadata": {},
   "outputs": [
    {
     "name": "stderr",
     "output_type": "stream",
     "text": [
      "/home/fahmi/hackathon/devto-brightdata-scraping/.venv/lib/python3.11/site-packages/tqdm/auto.py:21: TqdmWarning: IProgress not found. Please update jupyter and ipywidgets. See https://ipywidgets.readthedocs.io/en/stable/user_install.html\n",
      "  from .autonotebook import tqdm as notebook_tqdm\n"
     ]
    }
   ],
   "source": [
    "# OPTIONAL\n",
    "# import mlflow\n",
    "# mlflow.set_tracking_uri(\"http://10.20.20.102:8009\")\n",
    "# mlflow.set_experiment(\"DSPy Quickstart\")\n",
    "# mlflow.dspy.autolog()"
   ]
  },
  {
   "cell_type": "code",
   "execution_count": 3,
   "metadata": {},
   "outputs": [],
   "source": [
    "from typing import Literal, Optional\n",
    "\n",
    "import dspy\n",
    "import pandas as pd\n",
    "\n",
    "from rich import print as print_pretty"
   ]
  },
  {
   "cell_type": "markdown",
   "metadata": {},
   "source": [
    "## Data Loading"
   ]
  },
  {
   "cell_type": "code",
   "execution_count": 4,
   "metadata": {},
   "outputs": [
    {
     "data": {
      "text/html": [
       "<div>\n",
       "<style scoped>\n",
       "    .dataframe tbody tr th:only-of-type {\n",
       "        vertical-align: middle;\n",
       "    }\n",
       "\n",
       "    .dataframe tbody tr th {\n",
       "        vertical-align: top;\n",
       "    }\n",
       "\n",
       "    .dataframe thead th {\n",
       "        text-align: right;\n",
       "    }\n",
       "</style>\n",
       "<table border=\"1\" class=\"dataframe\">\n",
       "  <thead>\n",
       "    <tr style=\"text-align: right;\">\n",
       "      <th></th>\n",
       "      <th>id</th>\n",
       "      <th>product_name</th>\n",
       "      <th>initial_price</th>\n",
       "      <th>final_price</th>\n",
       "      <th>seller_name</th>\n",
       "      <th>description</th>\n",
       "      <th>url</th>\n",
       "      <th>extra_descripton</th>\n",
       "    </tr>\n",
       "  </thead>\n",
       "  <tbody>\n",
       "    <tr>\n",
       "      <th>0</th>\n",
       "      <td>6f6d353462836c7b0a641413a78eec014dd9528bffb1d3...</td>\n",
       "      <td>MSI THIN 15 B12UC RTX3050 I5-12450H 8GB 512GB ...</td>\n",
       "      <td>14399000</td>\n",
       "      <td>9799000</td>\n",
       "      <td>AGRES ID</td>\n",
       "      <td>PROMO SPECIAL !!\\nFREE SPEAKER HOME THEATER (S...</td>\n",
       "      <td>https://www.tokopedia.com/agresid/msi-thin-15-...</td>\n",
       "      <td>None</td>\n",
       "    </tr>\n",
       "    <tr>\n",
       "      <th>1</th>\n",
       "      <td>2cf4400e5eb525758f9f4e4e31a9976ec20343299065bd...</td>\n",
       "      <td>MSI KATANA 15 B13VEK i7-13620H 16GB 1TB SSD RT...</td>\n",
       "      <td>19999000</td>\n",
       "      <td>16999000</td>\n",
       "      <td>MSI Official Store</td>\n",
       "      <td>Katana 15 B13VEK-1851ID - INCLUDE OHS2021\\n\\nB...</td>\n",
       "      <td>https://www.tokopedia.com/msi-official/msi-kat...</td>\n",
       "      <td>None</td>\n",
       "    </tr>\n",
       "    <tr>\n",
       "      <th>2</th>\n",
       "      <td>d0c5989db9761d9b0b1eca7a0d8f3d1266cdef99a25755...</td>\n",
       "      <td>MSI KATANA 15 B13VFK i7-13620H 16GB 1TB SSD RT...</td>\n",
       "      <td>22599000</td>\n",
       "      <td>18699000</td>\n",
       "      <td>MSI Official Store</td>\n",
       "      <td>SKU\\tKatana 15 B13VFK-1850D \\n\\nBundle office ...</td>\n",
       "      <td>https://www.tokopedia.com/msi-official/msi-kat...</td>\n",
       "      <td>None</td>\n",
       "    </tr>\n",
       "    <tr>\n",
       "      <th>3</th>\n",
       "      <td>1f7a82c3880c3b54b98408ed062fea43e9aaa27ab15577...</td>\n",
       "      <td>MSI Thin 15 B12UC i7-12650H RTX 3050 4GB 512GB...</td>\n",
       "      <td>14999000</td>\n",
       "      <td>11199000</td>\n",
       "      <td>MSI Official Store</td>\n",
       "      <td>SKU\\tThin 15 B12UC-2405ID\\n\\nSpesifikasi:\\n\\nD...</td>\n",
       "      <td>https://www.tokopedia.com/msi-official/msi-thi...</td>\n",
       "      <td>None</td>\n",
       "    </tr>\n",
       "    <tr>\n",
       "      <th>4</th>\n",
       "      <td>a6e5daed20d7e527d85a2d32d37775cf68bdb07f137624...</td>\n",
       "      <td>MSI Thin 15 B13VE i7-13620H RTX4050 16GB 512GB...</td>\n",
       "      <td>17999000</td>\n",
       "      <td>15699000</td>\n",
       "      <td>MSI Official Store</td>\n",
       "      <td>SKU\\tThin 15 B13VE-2406ID\\n\\nWarna\\t:Cosmos Gr...</td>\n",
       "      <td>https://www.tokopedia.com/msi-official/msi-thi...</td>\n",
       "      <td>None</td>\n",
       "    </tr>\n",
       "  </tbody>\n",
       "</table>\n",
       "</div>"
      ],
      "text/plain": [
       "                                                  id  \\\n",
       "0  6f6d353462836c7b0a641413a78eec014dd9528bffb1d3...   \n",
       "1  2cf4400e5eb525758f9f4e4e31a9976ec20343299065bd...   \n",
       "2  d0c5989db9761d9b0b1eca7a0d8f3d1266cdef99a25755...   \n",
       "3  1f7a82c3880c3b54b98408ed062fea43e9aaa27ab15577...   \n",
       "4  a6e5daed20d7e527d85a2d32d37775cf68bdb07f137624...   \n",
       "\n",
       "                                        product_name  initial_price  \\\n",
       "0  MSI THIN 15 B12UC RTX3050 I5-12450H 8GB 512GB ...       14399000   \n",
       "1  MSI KATANA 15 B13VEK i7-13620H 16GB 1TB SSD RT...       19999000   \n",
       "2  MSI KATANA 15 B13VFK i7-13620H 16GB 1TB SSD RT...       22599000   \n",
       "3  MSI Thin 15 B12UC i7-12650H RTX 3050 4GB 512GB...       14999000   \n",
       "4  MSI Thin 15 B13VE i7-13620H RTX4050 16GB 512GB...       17999000   \n",
       "\n",
       "   final_price         seller_name  \\\n",
       "0      9799000            AGRES ID   \n",
       "1     16999000  MSI Official Store   \n",
       "2     18699000  MSI Official Store   \n",
       "3     11199000  MSI Official Store   \n",
       "4     15699000  MSI Official Store   \n",
       "\n",
       "                                         description  \\\n",
       "0  PROMO SPECIAL !!\\nFREE SPEAKER HOME THEATER (S...   \n",
       "1  Katana 15 B13VEK-1851ID - INCLUDE OHS2021\\n\\nB...   \n",
       "2  SKU\\tKatana 15 B13VFK-1850D \\n\\nBundle office ...   \n",
       "3  SKU\\tThin 15 B12UC-2405ID\\n\\nSpesifikasi:\\n\\nD...   \n",
       "4  SKU\\tThin 15 B13VE-2406ID\\n\\nWarna\\t:Cosmos Gr...   \n",
       "\n",
       "                                                 url extra_descripton  \n",
       "0  https://www.tokopedia.com/agresid/msi-thin-15-...             None  \n",
       "1  https://www.tokopedia.com/msi-official/msi-kat...             None  \n",
       "2  https://www.tokopedia.com/msi-official/msi-kat...             None  \n",
       "3  https://www.tokopedia.com/msi-official/msi-thi...             None  \n",
       "4  https://www.tokopedia.com/msi-official/msi-thi...             None  "
      ]
     },
     "execution_count": 4,
     "metadata": {},
     "output_type": "execute_result"
    }
   ],
   "source": [
    "df = pd.read_json(\"../data/clean/ecom-products.jsonl\", lines=True)\n",
    "df.head()"
   ]
  },
  {
   "cell_type": "code",
   "execution_count": 5,
   "metadata": {},
   "outputs": [],
   "source": [
    "def get_product_name(i: int) -> str:\n",
    "    return df.iloc[i, 1]\n",
    "\n",
    "def get_product_desc(i: int) -> str:\n",
    "    return df.iloc[i, 1] + \"\\n\" + df.iloc[i, 5]"
   ]
  },
  {
   "cell_type": "markdown",
   "metadata": {},
   "source": [
    "## DSPy Init"
   ]
  },
  {
   "cell_type": "code",
   "execution_count": 7,
   "metadata": {},
   "outputs": [],
   "source": [
    "lm = dspy.LM('ollama_chat/llama3.1:latest', api_base='http://localhost:7869', api_key='')\n",
    "dspy.configure(lm=lm)"
   ]
  },
  {
   "cell_type": "markdown",
   "metadata": {},
   "source": [
    "## Product Categorization"
   ]
  },
  {
   "cell_type": "code",
   "execution_count": 8,
   "metadata": {},
   "outputs": [],
   "source": [
    "class ProductCategoryClassification(dspy.Signature):\n",
    "    \"\"\"Classify electronic product category of a given description.\"\"\"\n",
    "\n",
    "    description: str = dspy.InputField()\n",
    "    category: Literal['LAPTOP', 'COMPUTER', 'OTHER'] = dspy.OutputField()"
   ]
  },
  {
   "cell_type": "code",
   "execution_count": 9,
   "metadata": {},
   "outputs": [],
   "source": [
    "df_product_category_fewshot = pd.read_json(\"../data/inputs/fewshot-product-category.jsonl\", lines=True)\n",
    "product_category_trainset = [dspy.Example(**entry).with_inputs(\"description\", \"reasoning\") for entry in df_product_category_fewshot.to_dict(orient=\"records\")]"
   ]
  },
  {
   "cell_type": "code",
   "execution_count": 10,
   "metadata": {},
   "outputs": [],
   "source": [
    "optimizer = dspy.LabeledFewShot()\n",
    "\n",
    "clf_product_category = dspy.ChainOfThoughtWithHint(ProductCategoryClassification)\n",
    "clf_product_category_opt = optimizer.compile(clf_product_category, trainset=product_category_trainset)"
   ]
  },
  {
   "cell_type": "code",
   "execution_count": 11,
   "metadata": {},
   "outputs": [
    {
     "data": {
      "text/html": [
       "<pre style=\"white-space:pre;overflow-x:auto;line-height:normal;font-family:Menlo,'DejaVu Sans Mono',consolas,'Courier New',monospace\"><span style=\"font-weight: bold\">{</span>\n",
       "    <span style=\"color: #008000; text-decoration-color: #008000\">'vanilla'</span>: <span style=\"color: #800080; text-decoration-color: #800080; font-weight: bold\">Prediction</span><span style=\"font-weight: bold\">(</span>\n",
       "    <span style=\"color: #808000; text-decoration-color: #808000\">reasoning</span>=<span style=\"color: #008000; text-decoration-color: #008000\">\"The description mentions an adaptor charger which is typically used to charge electronic devices. </span>\n",
       "<span style=\"color: #008000; text-decoration-color: #008000\">The product name includes various model numbers of Apple products (e.g., 10, 11 plus), indicating it's designed for</span>\n",
       "<span style=\"color: #008000; text-decoration-color: #008000\">a specific range of devices.\"</span>,\n",
       "    <span style=\"color: #808000; text-decoration-color: #808000\">category</span>=<span style=\"color: #008000; text-decoration-color: #008000\">'LAPTOP'</span>\n",
       "<span style=\"font-weight: bold\">)</span>,\n",
       "    <span style=\"color: #008000; text-decoration-color: #008000\">'few-shot'</span>: <span style=\"color: #800080; text-decoration-color: #800080; font-weight: bold\">Prediction</span><span style=\"font-weight: bold\">(</span>\n",
       "    <span style=\"color: #808000; text-decoration-color: #808000\">reasoning</span>=<span style=\"color: #008000; text-decoration-color: #008000\">'Adaptor Charger is an accessory for laptop, not the laptop itself'</span>,\n",
       "    <span style=\"color: #808000; text-decoration-color: #808000\">category</span>=<span style=\"color: #008000; text-decoration-color: #008000\">'OTHER'</span>\n",
       "<span style=\"font-weight: bold\">)</span>,\n",
       "    <span style=\"color: #008000; text-decoration-color: #008000\">'text'</span>: <span style=\"color: #008000; text-decoration-color: #008000\">'Adaptor Charger AXIOO MYBOOK 10 11 plus 11G 14 14plus 14E 14F 14G 14H - BIASA'</span>\n",
       "<span style=\"font-weight: bold\">}</span>\n",
       "</pre>\n"
      ],
      "text/plain": [
       "\u001b[1m{\u001b[0m\n",
       "    \u001b[32m'vanilla'\u001b[0m: \u001b[1;35mPrediction\u001b[0m\u001b[1m(\u001b[0m\n",
       "    \u001b[33mreasoning\u001b[0m=\u001b[32m\"The\u001b[0m\u001b[32m description mentions an adaptor charger which is typically used to charge electronic devices. \u001b[0m\n",
       "\u001b[32mThe product name includes various model numbers of Apple products \u001b[0m\u001b[32m(\u001b[0m\u001b[32me.g., 10, 11 plus\u001b[0m\u001b[32m)\u001b[0m\u001b[32m, indicating it's designed for\u001b[0m\n",
       "\u001b[32ma specific range of devices.\"\u001b[0m,\n",
       "    \u001b[33mcategory\u001b[0m=\u001b[32m'LAPTOP'\u001b[0m\n",
       "\u001b[1m)\u001b[0m,\n",
       "    \u001b[32m'few-shot'\u001b[0m: \u001b[1;35mPrediction\u001b[0m\u001b[1m(\u001b[0m\n",
       "    \u001b[33mreasoning\u001b[0m=\u001b[32m'Adaptor Charger is an accessory for laptop, not the laptop itself'\u001b[0m,\n",
       "    \u001b[33mcategory\u001b[0m=\u001b[32m'OTHER'\u001b[0m\n",
       "\u001b[1m)\u001b[0m,\n",
       "    \u001b[32m'text'\u001b[0m: \u001b[32m'Adaptor Charger AXIOO MYBOOK 10 11 plus 11G 14 14plus 14E 14F 14G 14H - BIASA'\u001b[0m\n",
       "\u001b[1m}\u001b[0m\n"
      ]
     },
     "metadata": {},
     "output_type": "display_data"
    }
   ],
   "source": [
    "product_name = get_product_name(1021)\n",
    "\n",
    "print_pretty({\n",
    "    \"vanilla\": clf_product_category(description=product_name),\n",
    "    \"few-shot\": clf_product_category_opt(description=product_name),\n",
    "    \"text\": product_name,\n",
    "})"
   ]
  },
  {
   "cell_type": "markdown",
   "metadata": {},
   "source": [
    "## Specification Extraction"
   ]
  },
  {
   "cell_type": "code",
   "execution_count": 15,
   "metadata": {},
   "outputs": [],
   "source": [
    "class LaptopSpecification(dspy.Signature):\n",
    "    \"\"\"Extracts laptop technical specification.\"\"\"\n",
    "\n",
    "    description: str = dspy.InputField()\n",
    "\n",
    "    brand: Optional[str] = dspy.OutputField(\n",
    "        desc=\"Brand or manufacturer, for example: Acer, ASUS, Merdeka, Libera, Lenovo, MSI, SPC, etc. If the device has no recognizable brand, return Unknown\",\n",
    "    )\n",
    "    model: Optional[str] = dspy.OutputField(\n",
    "        description=\"Model or type, for example: Thin 15 B12UC, Katana 15, Cyborg 15, X454YA, P214, C120, A514, etc.\",\n",
    "    )\n",
    "    processor: Optional[str] = dspy.OutputField(\n",
    "        desc=\"CPU brand, model number, and generation\"\n",
    "    )\n",
    "    memory: Optional[str] = dspy.OutputField(\n",
    "        desc=\"Total memory or RAM, in GigaBytes (GB). If the memory is in TeraBytes (TB), convert it to GB first\"\n",
    "    )\n",
    "    storage: Optional[str] = dspy.OutputField(\n",
    "        desc=\"Total disk storage including hard drives, SSDs, and other mass storage devices\",\n",
    "    )\n",
    "    graphics_card: Optional[str] = dspy.OutputField(\n",
    "        desc=\"GPU name, for example: Nvidia RTX 3060, Intel UHD Graphics, etc.\",\n",
    "    )"
   ]
  },
  {
   "cell_type": "code",
   "execution_count": 16,
   "metadata": {},
   "outputs": [],
   "source": [
    "spec_extractor = dspy.ChainOfThought(LaptopSpecification)"
   ]
  },
  {
   "cell_type": "code",
   "execution_count": 17,
   "metadata": {},
   "outputs": [
    {
     "data": {
      "text/html": [
       "<pre style=\"white-space:pre;overflow-x:auto;line-height:normal;font-family:Menlo,'DejaVu Sans Mono',consolas,'Courier New',monospace\"><span style=\"font-weight: bold\">{</span>\n",
       "    <span style=\"color: #008000; text-decoration-color: #008000\">'extracted'</span>: <span style=\"color: #800080; text-decoration-color: #800080; font-weight: bold\">Prediction</span><span style=\"font-weight: bold\">(</span>\n",
       "    <span style=\"color: #808000; text-decoration-color: #808000\">reasoning</span>=<span style=\"color: #008000; text-decoration-color: #008000\">'The description provided contains technical specifications of a laptop. The brand, model, processor,</span>\n",
       "<span style=\"color: #008000; text-decoration-color: #008000\">memory, storage, and graphics card can be extracted from this information.'</span>,\n",
       "    <span style=\"color: #808000; text-decoration-color: #808000\">brand</span>=<span style=\"color: #008000; text-decoration-color: #008000\">'MSI'</span>,\n",
       "    <span style=\"color: #808000; text-decoration-color: #808000\">model</span>=<span style=\"color: #008000; text-decoration-color: #008000\">'THIN 15 B12UC'</span>,\n",
       "    <span style=\"color: #808000; text-decoration-color: #808000\">processor</span>=<span style=\"color: #008000; text-decoration-color: #008000\">'12th Gen Intel Core i5-12450H'</span>,\n",
       "    <span style=\"color: #808000; text-decoration-color: #808000\">memory</span>=<span style=\"color: #008000; text-decoration-color: #008000\">'8GB DDR4-3200'</span>,\n",
       "    <span style=\"color: #808000; text-decoration-color: #808000\">storage</span>=<span style=\"color: #008000; text-decoration-color: #008000\">'512GB NVMe SSD PCIe Gen4, 1x 2.5\" SATA HDD'</span>,\n",
       "    <span style=\"color: #808000; text-decoration-color: #808000\">graphics_card</span>=<span style=\"color: #008000; text-decoration-color: #008000\">'NVIDIA GeForce RTX 3050 Laptop GPU'</span>\n",
       "<span style=\"font-weight: bold\">)</span>,\n",
       "    <span style=\"color: #008000; text-decoration-color: #008000\">'text'</span>: <span style=\"color: #008000; text-decoration-color: #008000\">'MSI THIN 15 B12UC RTX3050 I5-12450H 8GB 512GB w11 15\" 144hz - Non Bundle, WINDOWS 11 HOME\\nPROMO </span>\n",
       "<span style=\"color: #008000; text-decoration-color: #008000\">SPECIAL !!\\nFREE SPEAKER HOME THEATER (SELAMA STOCK MASIH TERSEDIA)\\n\\nSelamat Datang Di AGRES ID Official\\nSemua </span>\n",
       "<span style=\"color: #008000; text-decoration-color: #008000\">Produk Yang Kami Jual Bergaransi Resmi 100% dan DIJAMIN Original.\\n\\nMSI THIN 15 I5 12450H RTX3050 4GB/ 8GB 512GB </span>\n",
       "<span style=\"color: #008000; text-decoration-color: #008000\">W11 15.6FHD 144HZ BLIT 2Y GRY -B12UC.2411\\n\\nSpesifikasi :\\n• Processor : 12th Gen Intel® Core™ i5-12450H processor</span>\n",
       "<span style=\"color: #008000; text-decoration-color: #008000\">8 cores (4 P-cores + 4 E-cores), Max Turbo Frequency 4.4 GHz\\n• Display : 15.6″ FHD(1920×1080), 144Hz Refresh Rate,</span>\n",
       "<span style=\"color: #008000; text-decoration-color: #008000\">IPS-Level\\n• Memory : 8GB DDR4-3200, 2 Slots, Max 64GB\\n• Storage : 512GB NVMe SSD PCIe Gen4, 1x 2.5″ SATA HDD\\n• </span>\n",
       "<span style=\"color: #008000; text-decoration-color: #008000\">Graphics : NVIDIA® GeForce RTX™ 3050 Laptop GPU 4GB GDDR6, Up to 1605MHz Boost Clock 45W Maximum Graphics Power </span>\n",
       "<span style=\"color: #008000; text-decoration-color: #008000\">with Dynamic Boost.t. *May vary by scenario\\n• Operasi sistem : Windows 11 Home\\n\\n• Ports : \\n1x Type-C (USB3.2 </span>\n",
       "<span style=\"color: #008000; text-decoration-color: #008000\">Gen1 / DP); \\n3x Type-A USB3.2 Gen1; \\n1x HDMI™ (4K @ 30Hz); \\n1x RJ45; 1x Mic-in, \\n1x Headphone-out\\n\\n• Keyboard</span>\n",
       "<span style=\"color: #008000; text-decoration-color: #008000\">: Single Backlit Keyboard (Blue)\\n• Wireless : 802.11 ax Wi-Fi 6E + Bluetooth v5.3\\n\\n• Webcam : HD type </span>\n",
       "<span style=\"color: #008000; text-decoration-color: #008000\">(30fps@720p)\\n• Audio : 2x 2W Speaker\\n• Battery : 3-Cell 52.4 Battery (Whr), 120W adapter\\n\\nBUNDLING:\\n-Non </span>\n",
       "<span style=\"color: #008000; text-decoration-color: #008000\">bunlde : unit + charger + kartu ganrsi + dus + tas\\n-Bunlde Standard : unit + antigores depan + belakang + clean </span>\n",
       "<span style=\"color: #008000; text-decoration-color: #008000\">kit \\n-BUNDLE MEDIUM : unit + mouse wireless + mousepad + sleeve carbon\\n-BUNDLE LARGE : unit +antigores depan + </span>\n",
       "<span style=\"color: #008000; text-decoration-color: #008000\">belakang + clean kit + BASIC A\\n\\nGARANSI : 2 TAHUN GARANSI RESMI\\nGaransi Toko 7 Hari sejak barang di terima </span>\n",
       "<span style=\"color: #008000; text-decoration-color: #008000\">customer jika ada kerusakan yg diakibatkan cacat pabrik.\\n( NOTE : GARANSI TOKO BISA DIKLAIM JIKA OHS BELUM </span>\n",
       "<span style=\"color: #008000; text-decoration-color: #008000\">DIAKTIFKAN )\\n\\nKELENGKAPAN :\\nUnit Laptop, Charger, Kartu Garansi, Dus/Box\\n\\nNOTE :\\n- Pesanan yang masuk akan </span>\n",
       "<span style=\"color: #008000; text-decoration-color: #008000\">kami proses sesuai antrian, Mohon Bersabar.\\n- WAJIB tanyakan stok sebelum melakukan Checkout.'</span>\n",
       "<span style=\"font-weight: bold\">}</span>\n",
       "</pre>\n"
      ],
      "text/plain": [
       "\u001b[1m{\u001b[0m\n",
       "    \u001b[32m'extracted'\u001b[0m: \u001b[1;35mPrediction\u001b[0m\u001b[1m(\u001b[0m\n",
       "    \u001b[33mreasoning\u001b[0m=\u001b[32m'The description provided contains technical specifications of a laptop. The brand, model, processor,\u001b[0m\n",
       "\u001b[32mmemory, storage, and graphics card can be extracted from this information.'\u001b[0m,\n",
       "    \u001b[33mbrand\u001b[0m=\u001b[32m'MSI'\u001b[0m,\n",
       "    \u001b[33mmodel\u001b[0m=\u001b[32m'THIN 15 B12UC'\u001b[0m,\n",
       "    \u001b[33mprocessor\u001b[0m=\u001b[32m'12th Gen Intel Core i5-12450H'\u001b[0m,\n",
       "    \u001b[33mmemory\u001b[0m=\u001b[32m'8GB DDR4-3200'\u001b[0m,\n",
       "    \u001b[33mstorage\u001b[0m=\u001b[32m'512GB NVMe SSD PCIe Gen4, 1x 2.5\" SATA HDD'\u001b[0m,\n",
       "    \u001b[33mgraphics_card\u001b[0m=\u001b[32m'NVIDIA GeForce RTX 3050 Laptop GPU'\u001b[0m\n",
       "\u001b[1m)\u001b[0m,\n",
       "    \u001b[32m'text'\u001b[0m: \u001b[32m'MSI THIN 15 B12UC RTX3050 I5-12450H 8GB 512GB w11 15\" 144hz - Non Bundle, WINDOWS 11 HOME\\nPROMO \u001b[0m\n",
       "\u001b[32mSPECIAL !!\\nFREE SPEAKER HOME THEATER \u001b[0m\u001b[32m(\u001b[0m\u001b[32mSELAMA STOCK MASIH TERSEDIA\u001b[0m\u001b[32m)\u001b[0m\u001b[32m\\n\\nSelamat Datang Di AGRES ID Official\\nSemua \u001b[0m\n",
       "\u001b[32mProduk Yang Kami Jual Bergaransi Resmi 100% dan DIJAMIN Original.\\n\\nMSI THIN 15 I5 12450H RTX3050 4GB/ 8GB 512GB \u001b[0m\n",
       "\u001b[32mW11 15.6FHD 144HZ BLIT 2Y GRY -B12UC.2411\\n\\nSpesifikasi :\\n• Processor : 12th Gen Intel® Core™ i5-12450H processor\u001b[0m\n",
       "\u001b[32m8 cores \u001b[0m\u001b[32m(\u001b[0m\u001b[32m4 P-cores + 4 E-cores\u001b[0m\u001b[32m)\u001b[0m\u001b[32m, Max Turbo Frequency 4.4 GHz\\n• Display : 15.6″ FHD\u001b[0m\u001b[32m(\u001b[0m\u001b[32m1920×1080\u001b[0m\u001b[32m)\u001b[0m\u001b[32m, 144Hz Refresh Rate,\u001b[0m\n",
       "\u001b[32mIPS-Level\\n• Memory : 8GB DDR4-3200, 2 Slots, Max 64GB\\n• Storage : 512GB NVMe SSD PCIe Gen4, 1x 2.5″ SATA HDD\\n• \u001b[0m\n",
       "\u001b[32mGraphics : NVIDIA® GeForce RTX™ 3050 Laptop GPU 4GB GDDR6, Up to 1605MHz Boost Clock 45W Maximum Graphics Power \u001b[0m\n",
       "\u001b[32mwith Dynamic Boost.t. *May vary by scenario\\n• Operasi sistem : Windows 11 Home\\n\\n• Ports : \\n1x Type-C \u001b[0m\u001b[32m(\u001b[0m\u001b[32mUSB3.2 \u001b[0m\n",
       "\u001b[32mGen1 / DP\u001b[0m\u001b[32m)\u001b[0m\u001b[32m; \\n3x Type-A USB3.2 Gen1; \\n1x HDMI™ \u001b[0m\u001b[32m(\u001b[0m\u001b[32m4K @ 30Hz\u001b[0m\u001b[32m)\u001b[0m\u001b[32m; \\n1x RJ45; 1x Mic-in, \\n1x Headphone-out\\n\\n• Keyboard\u001b[0m\n",
       "\u001b[32m: Single Backlit Keyboard \u001b[0m\u001b[32m(\u001b[0m\u001b[32mBlue\u001b[0m\u001b[32m)\u001b[0m\u001b[32m\\n• Wireless : 802.11 ax Wi-Fi 6E + Bluetooth v5.3\\n\\n• Webcam : HD type \u001b[0m\n",
       "\u001b[32m(\u001b[0m\u001b[32m30fps@720p\u001b[0m\u001b[32m)\u001b[0m\u001b[32m\\n• Audio : 2x 2W Speaker\\n• Battery : 3-Cell 52.4 Battery \u001b[0m\u001b[32m(\u001b[0m\u001b[32mWhr\u001b[0m\u001b[32m)\u001b[0m\u001b[32m, 120W adapter\\n\\nBUNDLING:\\n-Non \u001b[0m\n",
       "\u001b[32mbunlde : unit + charger + kartu ganrsi + dus + tas\\n-Bunlde Standard : unit + antigores depan + belakang + clean \u001b[0m\n",
       "\u001b[32mkit \\n-BUNDLE MEDIUM : unit + mouse wireless + mousepad + sleeve carbon\\n-BUNDLE LARGE : unit +antigores depan + \u001b[0m\n",
       "\u001b[32mbelakang + clean kit + BASIC A\\n\\nGARANSI : 2 TAHUN GARANSI RESMI\\nGaransi Toko 7 Hari sejak barang di terima \u001b[0m\n",
       "\u001b[32mcustomer jika ada kerusakan yg diakibatkan cacat pabrik.\\n\u001b[0m\u001b[32m(\u001b[0m\u001b[32m NOTE : GARANSI TOKO BISA DIKLAIM JIKA OHS BELUM \u001b[0m\n",
       "\u001b[32mDIAKTIFKAN \u001b[0m\u001b[32m)\u001b[0m\u001b[32m\\n\\nKELENGKAPAN :\\nUnit Laptop, Charger, Kartu Garansi, Dus/Box\\n\\nNOTE :\\n- Pesanan yang masuk akan \u001b[0m\n",
       "\u001b[32mkami proses sesuai antrian, Mohon Bersabar.\\n- WAJIB tanyakan stok sebelum melakukan Checkout.'\u001b[0m\n",
       "\u001b[1m}\u001b[0m\n"
      ]
     },
     "metadata": {},
     "output_type": "display_data"
    }
   ],
   "source": [
    "product_desc = get_product_desc(0)\n",
    "\n",
    "print_pretty({\n",
    "    \"extracted\": spec_extractor(description=product_desc),\n",
    "    \"text\": product_desc,\n",
    "})"
   ]
  },
  {
   "cell_type": "code",
   "execution_count": null,
   "metadata": {},
   "outputs": [],
   "source": []
  }
 ],
 "metadata": {
  "kernelspec": {
   "display_name": ".venv",
   "language": "python",
   "name": "python3"
  },
  "language_info": {
   "codemirror_mode": {
    "name": "ipython",
    "version": 3
   },
   "file_extension": ".py",
   "mimetype": "text/x-python",
   "name": "python",
   "nbconvert_exporter": "python",
   "pygments_lexer": "ipython3",
   "version": "3.11.9"
  }
 },
 "nbformat": 4,
 "nbformat_minor": 2
}
