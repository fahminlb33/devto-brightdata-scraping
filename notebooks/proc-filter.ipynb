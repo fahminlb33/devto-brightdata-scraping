{
 "cells": [
  {
   "cell_type": "code",
   "execution_count": 7,
   "metadata": {},
   "outputs": [],
   "source": [
    "import pandas as pd"
   ]
  },
  {
   "cell_type": "markdown",
   "metadata": {},
   "source": [
    "## LKPP Dataset"
   ]
  },
  {
   "cell_type": "code",
   "execution_count": 8,
   "metadata": {},
   "outputs": [
    {
     "data": {
      "text/html": [
       "<div>\n",
       "<style scoped>\n",
       "    .dataframe tbody tr th:only-of-type {\n",
       "        vertical-align: middle;\n",
       "    }\n",
       "\n",
       "    .dataframe tbody tr th {\n",
       "        vertical-align: top;\n",
       "    }\n",
       "\n",
       "    .dataframe thead th {\n",
       "        text-align: right;\n",
       "    }\n",
       "</style>\n",
       "<table border=\"1\" class=\"dataframe\">\n",
       "  <thead>\n",
       "    <tr style=\"text-align: right;\">\n",
       "      <th></th>\n",
       "      <th>id</th>\n",
       "      <th>sku</th>\n",
       "      <th>product_name</th>\n",
       "      <th>price</th>\n",
       "      <th>stock</th>\n",
       "      <th>unit_measurement</th>\n",
       "      <th>is_inactive</th>\n",
       "      <th>expiry_date</th>\n",
       "      <th>bmp_score</th>\n",
       "      <th>tkdn_score</th>\n",
       "      <th>...</th>\n",
       "      <th>color</th>\n",
       "      <th>warning_wrong_category</th>\n",
       "      <th>warning_wrong_description</th>\n",
       "      <th>tag_umkk</th>\n",
       "      <th>tag_verified_vendor</th>\n",
       "      <th>tag_official_vendor</th>\n",
       "      <th>tag_produk_dalam_negeri</th>\n",
       "      <th>description</th>\n",
       "      <th>extra_description</th>\n",
       "      <th>url</th>\n",
       "    </tr>\n",
       "  </thead>\n",
       "  <tbody>\n",
       "    <tr>\n",
       "      <th>0</th>\n",
       "      <td>83451581</td>\n",
       "      <td>4522100001-LTN-224654966</td>\n",
       "      <td>LAPTOP ADMINISTRASI PERKANTORAN AXIOO</td>\n",
       "      <td>12500000</td>\n",
       "      <td>5.0</td>\n",
       "      <td>unit</td>\n",
       "      <td>True</td>\n",
       "      <td>1.735603e+12</td>\n",
       "      <td>NaN</td>\n",
       "      <td>99.64</td>\n",
       "      <td>...</td>\n",
       "      <td>Grey</td>\n",
       "      <td>True</td>\n",
       "      <td>True</td>\n",
       "      <td>True</td>\n",
       "      <td>True</td>\n",
       "      <td>False</td>\n",
       "      <td>True</td>\n",
       "      <td>- Processor: Intel Core™ I5- 3.70 GHz - Frekue...</td>\n",
       "      <td>-</td>\n",
       "      <td>https://e-katalog.lkpp.go.id/katalog/produk/de...</td>\n",
       "    </tr>\n",
       "    <tr>\n",
       "      <th>1</th>\n",
       "      <td>84521755</td>\n",
       "      <td>4522100001-LTN-230428659</td>\n",
       "      <td>ACER LAPTOP TRAVELMATE P214 CORE I5/8 GB/512 G...</td>\n",
       "      <td>18300000</td>\n",
       "      <td>312.0</td>\n",
       "      <td>unit</td>\n",
       "      <td>False</td>\n",
       "      <td>1.767139e+12</td>\n",
       "      <td>NaN</td>\n",
       "      <td>99.04</td>\n",
       "      <td>...</td>\n",
       "      <td>-</td>\n",
       "      <td>False</td>\n",
       "      <td>False</td>\n",
       "      <td>True</td>\n",
       "      <td>True</td>\n",
       "      <td>False</td>\n",
       "      <td>True</td>\n",
       "      <td>Travelmate P214 Core-i5 8G 512GB SSD 14 Inch W...</td>\n",
       "      <td>Garansi 2 tahun part &amp; 3 tahun labor</td>\n",
       "      <td>https://e-katalog.lkpp.go.id/katalog/produk/de...</td>\n",
       "    </tr>\n",
       "  </tbody>\n",
       "</table>\n",
       "<p>2 rows × 37 columns</p>\n",
       "</div>"
      ],
      "text/plain": [
       "         id                       sku  \\\n",
       "0  83451581  4522100001-LTN-224654966   \n",
       "1  84521755  4522100001-LTN-230428659   \n",
       "\n",
       "                                        product_name     price  stock  \\\n",
       "0              LAPTOP ADMINISTRASI PERKANTORAN AXIOO  12500000    5.0   \n",
       "1  ACER LAPTOP TRAVELMATE P214 CORE I5/8 GB/512 G...  18300000  312.0   \n",
       "\n",
       "  unit_measurement  is_inactive   expiry_date  bmp_score  tkdn_score  ...  \\\n",
       "0             unit         True  1.735603e+12        NaN       99.64  ...   \n",
       "1             unit        False  1.767139e+12        NaN       99.04  ...   \n",
       "\n",
       "   color  warning_wrong_category  warning_wrong_description tag_umkk  \\\n",
       "0   Grey                    True                       True     True   \n",
       "1      -                   False                      False     True   \n",
       "\n",
       "  tag_verified_vendor tag_official_vendor tag_produk_dalam_negeri  \\\n",
       "0                True               False                    True   \n",
       "1                True               False                    True   \n",
       "\n",
       "                                         description  \\\n",
       "0  - Processor: Intel Core™ I5- 3.70 GHz - Frekue...   \n",
       "1  Travelmate P214 Core-i5 8G 512GB SSD 14 Inch W...   \n",
       "\n",
       "                      extra_description  \\\n",
       "0                                     -   \n",
       "1  Garansi 2 tahun part & 3 tahun labor   \n",
       "\n",
       "                                                 url  \n",
       "0  https://e-katalog.lkpp.go.id/katalog/produk/de...  \n",
       "1  https://e-katalog.lkpp.go.id/katalog/produk/de...  \n",
       "\n",
       "[2 rows x 37 columns]"
      ]
     },
     "execution_count": 8,
     "metadata": {},
     "output_type": "execute_result"
    }
   ],
   "source": [
    "df_lkpp = pd.read_json(\"../data/clean/lkpp-products.jsonl\", lines=True)\n",
    "df_lkpp.head(2)"
   ]
  },
  {
   "cell_type": "code",
   "execution_count": 9,
   "metadata": {},
   "outputs": [
    {
     "data": {
      "text/html": [
       "<div>\n",
       "<style scoped>\n",
       "    .dataframe tbody tr th:only-of-type {\n",
       "        vertical-align: middle;\n",
       "    }\n",
       "\n",
       "    .dataframe tbody tr th {\n",
       "        vertical-align: top;\n",
       "    }\n",
       "\n",
       "    .dataframe thead th {\n",
       "        text-align: right;\n",
       "    }\n",
       "</style>\n",
       "<table border=\"1\" class=\"dataframe\">\n",
       "  <thead>\n",
       "    <tr style=\"text-align: right;\">\n",
       "      <th></th>\n",
       "      <th>id</th>\n",
       "      <th>category</th>\n",
       "      <th>product_name</th>\n",
       "    </tr>\n",
       "  </thead>\n",
       "  <tbody>\n",
       "    <tr>\n",
       "      <th>0</th>\n",
       "      <td>83451581</td>\n",
       "      <td>LAPTOP</td>\n",
       "      <td>LAPTOP ADMINISTRASI PERKANTORAN AXIOO</td>\n",
       "    </tr>\n",
       "    <tr>\n",
       "      <th>1</th>\n",
       "      <td>84521755</td>\n",
       "      <td>LAPTOP</td>\n",
       "      <td>ACER LAPTOP TRAVELMATE P214 CORE I5/8 GB/512 G...</td>\n",
       "    </tr>\n",
       "  </tbody>\n",
       "</table>\n",
       "</div>"
      ],
      "text/plain": [
       "         id category                                       product_name\n",
       "0  83451581   LAPTOP              LAPTOP ADMINISTRASI PERKANTORAN AXIOO\n",
       "1  84521755   LAPTOP  ACER LAPTOP TRAVELMATE P214 CORE I5/8 GB/512 G..."
      ]
     },
     "execution_count": 9,
     "metadata": {},
     "output_type": "execute_result"
    }
   ],
   "source": [
    "df_lkpp_categories = pd.read_json(\"../data/clean/lkpp-products-category.jsonl\", lines=True)\n",
    "df_lkpp_categories.head(2)"
   ]
  },
  {
   "cell_type": "code",
   "execution_count": 10,
   "metadata": {},
   "outputs": [
    {
     "data": {
      "text/plain": [
       "[Text(0, 0, '2037'), Text(0, 0, '27'), Text(0, 0, '15')]"
      ]
     },
     "execution_count": 10,
     "metadata": {},
     "output_type": "execute_result"
    },
    {
     "data": {
      "image/png": "[encoded data removed]",
      "text/plain": [
       "<Figure size 640x480 with 1 Axes>"
      ]
     },
     "metadata": {},
     "output_type": "display_data"
    }
   ],
   "source": [
    "ax = df_lkpp_categories[\"category\"].value_counts().plot.bar()\n",
    "ax.bar_label(ax.containers[0])"
   ]
  },
  {
   "cell_type": "code",
   "execution_count": 11,
   "metadata": {},
   "outputs": [
    {
     "data": {
      "text/html": [
       "<div>\n",
       "<style scoped>\n",
       "    .dataframe tbody tr th:only-of-type {\n",
       "        vertical-align: middle;\n",
       "    }\n",
       "\n",
       "    .dataframe tbody tr th {\n",
       "        vertical-align: top;\n",
       "    }\n",
       "\n",
       "    .dataframe thead th {\n",
       "        text-align: right;\n",
       "    }\n",
       "</style>\n",
       "<table border=\"1\" class=\"dataframe\">\n",
       "  <thead>\n",
       "    <tr style=\"text-align: right;\">\n",
       "      <th></th>\n",
       "      <th>id</th>\n",
       "      <th>sku</th>\n",
       "      <th>product_name</th>\n",
       "      <th>price</th>\n",
       "      <th>stock</th>\n",
       "      <th>unit_measurement</th>\n",
       "      <th>is_inactive</th>\n",
       "      <th>expiry_date</th>\n",
       "      <th>bmp_score</th>\n",
       "      <th>tkdn_score</th>\n",
       "      <th>...</th>\n",
       "      <th>warning_wrong_category</th>\n",
       "      <th>warning_wrong_description</th>\n",
       "      <th>tag_umkk</th>\n",
       "      <th>tag_verified_vendor</th>\n",
       "      <th>tag_official_vendor</th>\n",
       "      <th>tag_produk_dalam_negeri</th>\n",
       "      <th>description</th>\n",
       "      <th>extra_description</th>\n",
       "      <th>url</th>\n",
       "      <th>category</th>\n",
       "    </tr>\n",
       "  </thead>\n",
       "  <tbody>\n",
       "    <tr>\n",
       "      <th>0</th>\n",
       "      <td>83451581</td>\n",
       "      <td>4522100001-LTN-224654966</td>\n",
       "      <td>LAPTOP ADMINISTRASI PERKANTORAN AXIOO</td>\n",
       "      <td>12500000</td>\n",
       "      <td>5.0</td>\n",
       "      <td>unit</td>\n",
       "      <td>True</td>\n",
       "      <td>1.735603e+12</td>\n",
       "      <td>NaN</td>\n",
       "      <td>99.64</td>\n",
       "      <td>...</td>\n",
       "      <td>True</td>\n",
       "      <td>True</td>\n",
       "      <td>True</td>\n",
       "      <td>True</td>\n",
       "      <td>False</td>\n",
       "      <td>True</td>\n",
       "      <td>- Processor: Intel Core™ I5- 3.70 GHz - Frekue...</td>\n",
       "      <td>-</td>\n",
       "      <td>https://e-katalog.lkpp.go.id/katalog/produk/de...</td>\n",
       "      <td>LAPTOP</td>\n",
       "    </tr>\n",
       "    <tr>\n",
       "      <th>1</th>\n",
       "      <td>83451581</td>\n",
       "      <td>4522100001-LTN-224654966</td>\n",
       "      <td>LAPTOP ADMINISTRASI PERKANTORAN AXIOO</td>\n",
       "      <td>12500000</td>\n",
       "      <td>5.0</td>\n",
       "      <td>unit</td>\n",
       "      <td>True</td>\n",
       "      <td>1.735603e+12</td>\n",
       "      <td>NaN</td>\n",
       "      <td>99.64</td>\n",
       "      <td>...</td>\n",
       "      <td>True</td>\n",
       "      <td>True</td>\n",
       "      <td>True</td>\n",
       "      <td>True</td>\n",
       "      <td>False</td>\n",
       "      <td>True</td>\n",
       "      <td>- Processor: Intel Core™ I5- 3.70 GHz - Frekue...</td>\n",
       "      <td>-</td>\n",
       "      <td>https://e-katalog.lkpp.go.id/katalog/produk/de...</td>\n",
       "      <td>LAPTOP</td>\n",
       "    </tr>\n",
       "  </tbody>\n",
       "</table>\n",
       "<p>2 rows × 38 columns</p>\n",
       "</div>"
      ],
      "text/plain": [
       "         id                       sku                           product_name  \\\n",
       "0  83451581  4522100001-LTN-224654966  LAPTOP ADMINISTRASI PERKANTORAN AXIOO   \n",
       "1  83451581  4522100001-LTN-224654966  LAPTOP ADMINISTRASI PERKANTORAN AXIOO   \n",
       "\n",
       "      price  stock unit_measurement  is_inactive   expiry_date  bmp_score  \\\n",
       "0  12500000    5.0             unit         True  1.735603e+12        NaN   \n",
       "1  12500000    5.0             unit         True  1.735603e+12        NaN   \n",
       "\n",
       "   tkdn_score  ...  warning_wrong_category  warning_wrong_description  \\\n",
       "0       99.64  ...                    True                       True   \n",
       "1       99.64  ...                    True                       True   \n",
       "\n",
       "   tag_umkk tag_verified_vendor tag_official_vendor tag_produk_dalam_negeri  \\\n",
       "0      True                True               False                    True   \n",
       "1      True                True               False                    True   \n",
       "\n",
       "                                         description extra_description  \\\n",
       "0  - Processor: Intel Core™ I5- 3.70 GHz - Frekue...                 -   \n",
       "1  - Processor: Intel Core™ I5- 3.70 GHz - Frekue...                 -   \n",
       "\n",
       "                                                 url category  \n",
       "0  https://e-katalog.lkpp.go.id/katalog/produk/de...   LAPTOP  \n",
       "1  https://e-katalog.lkpp.go.id/katalog/produk/de...   LAPTOP  \n",
       "\n",
       "[2 rows x 38 columns]"
      ]
     },
     "execution_count": 11,
     "metadata": {},
     "output_type": "execute_result"
    }
   ],
   "source": [
    "df_lkpp_laptops = (\n",
    "    df_lkpp\n",
    "    .merge(df_lkpp_categories, on=\"id\")\n",
    "    .drop(columns=[\"product_name_y\"])\n",
    "    .rename(columns={\"product_name_x\": \"product_name\"})\n",
    ")\n",
    "\n",
    "df_lkpp_laptops = df_lkpp_laptops[df_lkpp_laptops[\"category\"] == \"LAPTOP\"]\n",
    "df_lkpp_laptops.head(2)"
   ]
  },
  {
   "cell_type": "code",
   "execution_count": 12,
   "metadata": {},
   "outputs": [],
   "source": [
    "def derive_description(x: pd.Series):\n",
    "    short_desc = x['product_name']\n",
    "\n",
    "    if x['processor'] is not None and len(x['processor']) > 1:\n",
    "        short_desc += f\"\\nprocessor: {x['processor']}\"\n",
    "    \n",
    "    if not pd.isna(x['memory']) and x['memory'] > 1:\n",
    "        short_desc += f\"\\nmemory: {x['memory']} GB\"\n",
    "\n",
    "    if not pd.isna(x['storage']) and x['storage'] > 1:\n",
    "        short_desc += f\"\\nstorage: {x['storage']} GB\"\n",
    "\n",
    "    if x['graphics_card'] is not None and len(x['graphics_card']) > 1:\n",
    "        short_desc += f\"\\ngraphics_card: {x['graphics_card']}\"\n",
    "    \n",
    "    return short_desc"
   ]
  },
  {
   "cell_type": "code",
   "execution_count": 13,
   "metadata": {},
   "outputs": [],
   "source": [
    "df_lkpp_laptops_derive = df_lkpp_laptops.copy()\n",
    "df_lkpp_laptops_derive[\"description\"] = df_lkpp_laptops_derive[\"description\"] + \"\\n\\n\" + df_lkpp_laptops_derive[\"extra_description\"]\n",
    "df_lkpp_laptops_derive[\"extra_description\"] = df_lkpp_laptops.apply(derive_description, axis=1)"
   ]
  },
  {
   "cell_type": "code",
   "execution_count": 14,
   "metadata": {},
   "outputs": [],
   "source": [
    "df_lkpp_laptops_derive.to_json(\"../data/clean/lkpp-products-filtered.jsonl\", orient=\"records\", lines=True)"
   ]
  },
  {
   "cell_type": "markdown",
   "metadata": {},
   "source": [
    "## E-commerce Dataset"
   ]
  },
  {
   "cell_type": "code",
   "execution_count": 15,
   "metadata": {},
   "outputs": [
    {
     "data": {
      "text/html": [
       "<div>\n",
       "<style scoped>\n",
       "    .dataframe tbody tr th:only-of-type {\n",
       "        vertical-align: middle;\n",
       "    }\n",
       "\n",
       "    .dataframe tbody tr th {\n",
       "        vertical-align: top;\n",
       "    }\n",
       "\n",
       "    .dataframe thead th {\n",
       "        text-align: right;\n",
       "    }\n",
       "</style>\n",
       "<table border=\"1\" class=\"dataframe\">\n",
       "  <thead>\n",
       "    <tr style=\"text-align: right;\">\n",
       "      <th></th>\n",
       "      <th>id</th>\n",
       "      <th>product_name</th>\n",
       "      <th>initial_price</th>\n",
       "      <th>final_price</th>\n",
       "      <th>seller_name</th>\n",
       "      <th>description</th>\n",
       "      <th>url</th>\n",
       "      <th>extra_descripton</th>\n",
       "    </tr>\n",
       "  </thead>\n",
       "  <tbody>\n",
       "    <tr>\n",
       "      <th>0</th>\n",
       "      <td>6f6d353462836c7b0a641413a78eec014dd9528bffb1d3...</td>\n",
       "      <td>MSI THIN 15 B12UC RTX3050 I5-12450H 8GB 512GB ...</td>\n",
       "      <td>14399000</td>\n",
       "      <td>9799000</td>\n",
       "      <td>AGRES ID</td>\n",
       "      <td>PROMO SPECIAL !!\\nFREE SPEAKER HOME THEATER (S...</td>\n",
       "      <td>https://www.tokopedia.com/agresid/msi-thin-15-...</td>\n",
       "      <td>None</td>\n",
       "    </tr>\n",
       "    <tr>\n",
       "      <th>1</th>\n",
       "      <td>2cf4400e5eb525758f9f4e4e31a9976ec20343299065bd...</td>\n",
       "      <td>MSI KATANA 15 B13VEK i7-13620H 16GB 1TB SSD RT...</td>\n",
       "      <td>19999000</td>\n",
       "      <td>16999000</td>\n",
       "      <td>MSI Official Store</td>\n",
       "      <td>Katana 15 B13VEK-1851ID - INCLUDE OHS2021\\n\\nB...</td>\n",
       "      <td>https://www.tokopedia.com/msi-official/msi-kat...</td>\n",
       "      <td>None</td>\n",
       "    </tr>\n",
       "  </tbody>\n",
       "</table>\n",
       "</div>"
      ],
      "text/plain": [
       "                                                  id  \\\n",
       "0  6f6d353462836c7b0a641413a78eec014dd9528bffb1d3...   \n",
       "1  2cf4400e5eb525758f9f4e4e31a9976ec20343299065bd...   \n",
       "\n",
       "                                        product_name  initial_price  \\\n",
       "0  MSI THIN 15 B12UC RTX3050 I5-12450H 8GB 512GB ...       14399000   \n",
       "1  MSI KATANA 15 B13VEK i7-13620H 16GB 1TB SSD RT...       19999000   \n",
       "\n",
       "   final_price         seller_name  \\\n",
       "0      9799000            AGRES ID   \n",
       "1     16999000  MSI Official Store   \n",
       "\n",
       "                                         description  \\\n",
       "0  PROMO SPECIAL !!\\nFREE SPEAKER HOME THEATER (S...   \n",
       "1  Katana 15 B13VEK-1851ID - INCLUDE OHS2021\\n\\nB...   \n",
       "\n",
       "                                                 url extra_descripton  \n",
       "0  https://www.tokopedia.com/agresid/msi-thin-15-...             None  \n",
       "1  https://www.tokopedia.com/msi-official/msi-kat...             None  "
      ]
     },
     "execution_count": 15,
     "metadata": {},
     "output_type": "execute_result"
    }
   ],
   "source": [
    "df_ecom = pd.read_json(\"../data/clean/ecom-products.jsonl\", lines=True)\n",
    "df_ecom.head(2)"
   ]
  },
  {
   "cell_type": "code",
   "execution_count": 16,
   "metadata": {},
   "outputs": [
    {
     "data": {
      "text/html": [
       "<div>\n",
       "<style scoped>\n",
       "    .dataframe tbody tr th:only-of-type {\n",
       "        vertical-align: middle;\n",
       "    }\n",
       "\n",
       "    .dataframe tbody tr th {\n",
       "        vertical-align: top;\n",
       "    }\n",
       "\n",
       "    .dataframe thead th {\n",
       "        text-align: right;\n",
       "    }\n",
       "</style>\n",
       "<table border=\"1\" class=\"dataframe\">\n",
       "  <thead>\n",
       "    <tr style=\"text-align: right;\">\n",
       "      <th></th>\n",
       "      <th>id</th>\n",
       "      <th>category</th>\n",
       "      <th>product_name</th>\n",
       "    </tr>\n",
       "  </thead>\n",
       "  <tbody>\n",
       "    <tr>\n",
       "      <th>0</th>\n",
       "      <td>6f6d353462836c7b0a641413a78eec014dd9528bffb1d3...</td>\n",
       "      <td>LAPTOP</td>\n",
       "      <td>MSI THIN 15 B12UC RTX3050 I5-12450H 8GB 512GB ...</td>\n",
       "    </tr>\n",
       "    <tr>\n",
       "      <th>1</th>\n",
       "      <td>2cf4400e5eb525758f9f4e4e31a9976ec20343299065bd...</td>\n",
       "      <td>LAPTOP</td>\n",
       "      <td>MSI KATANA 15 B13VEK i7-13620H 16GB 1TB SSD RT...</td>\n",
       "    </tr>\n",
       "  </tbody>\n",
       "</table>\n",
       "</div>"
      ],
      "text/plain": [
       "                                                  id category  \\\n",
       "0  6f6d353462836c7b0a641413a78eec014dd9528bffb1d3...   LAPTOP   \n",
       "1  2cf4400e5eb525758f9f4e4e31a9976ec20343299065bd...   LAPTOP   \n",
       "\n",
       "                                        product_name  \n",
       "0  MSI THIN 15 B12UC RTX3050 I5-12450H 8GB 512GB ...  \n",
       "1  MSI KATANA 15 B13VEK i7-13620H 16GB 1TB SSD RT...  "
      ]
     },
     "execution_count": 16,
     "metadata": {},
     "output_type": "execute_result"
    }
   ],
   "source": [
    "df_ecom_category = pd.read_json(\"../data/clean/ecom-products-category.jsonl\", lines=True)\n",
    "df_ecom_category.head(2)"
   ]
  },
  {
   "cell_type": "code",
   "execution_count": 17,
   "metadata": {},
   "outputs": [
    {
     "data": {
      "text/plain": [
       "[Text(0, 0, '11451'), Text(0, 0, '4065'), Text(0, 0, '190')]"
      ]
     },
     "execution_count": 17,
     "metadata": {},
     "output_type": "execute_result"
    },
    {
     "data": {
      "image/png": "[encoded data removed]",
      "text/plain": [
       "<Figure size 640x480 with 1 Axes>"
      ]
     },
     "metadata": {},
     "output_type": "display_data"
    }
   ],
   "source": [
    "ax = df_ecom_category[\"category\"].value_counts().plot.bar()\n",
    "ax.bar_label(ax.containers[0])"
   ]
  },
  {
   "cell_type": "code",
   "execution_count": 18,
   "metadata": {},
   "outputs": [
    {
     "data": {
      "text/html": [
       "<div>\n",
       "<style scoped>\n",
       "    .dataframe tbody tr th:only-of-type {\n",
       "        vertical-align: middle;\n",
       "    }\n",
       "\n",
       "    .dataframe tbody tr th {\n",
       "        vertical-align: top;\n",
       "    }\n",
       "\n",
       "    .dataframe thead th {\n",
       "        text-align: right;\n",
       "    }\n",
       "</style>\n",
       "<table border=\"1\" class=\"dataframe\">\n",
       "  <thead>\n",
       "    <tr style=\"text-align: right;\">\n",
       "      <th></th>\n",
       "      <th>id</th>\n",
       "      <th>product_name</th>\n",
       "      <th>initial_price</th>\n",
       "      <th>final_price</th>\n",
       "      <th>seller_name</th>\n",
       "      <th>description</th>\n",
       "      <th>url</th>\n",
       "      <th>extra_descripton</th>\n",
       "      <th>category</th>\n",
       "    </tr>\n",
       "  </thead>\n",
       "  <tbody>\n",
       "    <tr>\n",
       "      <th>0</th>\n",
       "      <td>6f6d353462836c7b0a641413a78eec014dd9528bffb1d3...</td>\n",
       "      <td>MSI THIN 15 B12UC RTX3050 I5-12450H 8GB 512GB ...</td>\n",
       "      <td>14399000</td>\n",
       "      <td>9799000</td>\n",
       "      <td>AGRES ID</td>\n",
       "      <td>PROMO SPECIAL !!\\nFREE SPEAKER HOME THEATER (S...</td>\n",
       "      <td>https://www.tokopedia.com/agresid/msi-thin-15-...</td>\n",
       "      <td>None</td>\n",
       "      <td>LAPTOP</td>\n",
       "    </tr>\n",
       "    <tr>\n",
       "      <th>1</th>\n",
       "      <td>2cf4400e5eb525758f9f4e4e31a9976ec20343299065bd...</td>\n",
       "      <td>MSI KATANA 15 B13VEK i7-13620H 16GB 1TB SSD RT...</td>\n",
       "      <td>19999000</td>\n",
       "      <td>16999000</td>\n",
       "      <td>MSI Official Store</td>\n",
       "      <td>Katana 15 B13VEK-1851ID - INCLUDE OHS2021\\n\\nB...</td>\n",
       "      <td>https://www.tokopedia.com/msi-official/msi-kat...</td>\n",
       "      <td>None</td>\n",
       "      <td>LAPTOP</td>\n",
       "    </tr>\n",
       "  </tbody>\n",
       "</table>\n",
       "</div>"
      ],
      "text/plain": [
       "                                                  id  \\\n",
       "0  6f6d353462836c7b0a641413a78eec014dd9528bffb1d3...   \n",
       "1  2cf4400e5eb525758f9f4e4e31a9976ec20343299065bd...   \n",
       "\n",
       "                                        product_name  initial_price  \\\n",
       "0  MSI THIN 15 B12UC RTX3050 I5-12450H 8GB 512GB ...       14399000   \n",
       "1  MSI KATANA 15 B13VEK i7-13620H 16GB 1TB SSD RT...       19999000   \n",
       "\n",
       "   final_price         seller_name  \\\n",
       "0      9799000            AGRES ID   \n",
       "1     16999000  MSI Official Store   \n",
       "\n",
       "                                         description  \\\n",
       "0  PROMO SPECIAL !!\\nFREE SPEAKER HOME THEATER (S...   \n",
       "1  Katana 15 B13VEK-1851ID - INCLUDE OHS2021\\n\\nB...   \n",
       "\n",
       "                                                 url extra_descripton category  \n",
       "0  https://www.tokopedia.com/agresid/msi-thin-15-...             None   LAPTOP  \n",
       "1  https://www.tokopedia.com/msi-official/msi-kat...             None   LAPTOP  "
      ]
     },
     "execution_count": 18,
     "metadata": {},
     "output_type": "execute_result"
    }
   ],
   "source": [
    "df_ecom_laptops = (\n",
    "    df_ecom\n",
    "    .merge(df_ecom_category, on=\"id\")\n",
    "    .drop(columns=[\"product_name_y\"])\n",
    "    .rename(columns={\"product_name_x\": \"product_name\"})\n",
    ")\n",
    "\n",
    "df_ecom_laptops = df_ecom_laptops[df_ecom_laptops[\"category\"] == \"LAPTOP\"]\n",
    "df_ecom_laptops.head(2)"
   ]
  },
  {
   "cell_type": "code",
   "execution_count": 19,
   "metadata": {},
   "outputs": [],
   "source": [
    "df_ecom_laptops.to_json(\"../data/clean/ecom-products-filtered.jsonl\", orient=\"records\", lines=True)"
   ]
  },
  {
   "cell_type": "code",
   "execution_count": null,
   "metadata": {},
   "outputs": [],
   "source": []
  }
 ],
 "metadata": {
  "kernelspec": {
   "display_name": ".venv",
   "language": "python",
   "name": "python3"
  },
  "language_info": {
   "codemirror_mode": {
    "name": "ipython",
    "version": 3
   },
   "file_extension": ".py",
   "mimetype": "text/x-python",
   "name": "python",
   "nbconvert_exporter": "python",
   "pygments_lexer": "ipython3",
   "version": "3.11.9"
  }
 },
 "nbformat": 4,
 "nbformat_minor": 2
}
