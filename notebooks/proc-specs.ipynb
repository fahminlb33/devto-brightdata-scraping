{
 "cells": [
  {
   "cell_type": "code",
   "execution_count": 30,
   "metadata": {},
   "outputs": [],
   "source": [
    "import re\n",
    "\n",
    "import numpy as np\n",
    "import pandas as pd\n",
    "import matplotlib.pyplot as plt"
   ]
  },
  {
   "cell_type": "code",
   "execution_count": 31,
   "metadata": {},
   "outputs": [],
   "source": [
    "PREFIX = \"lkpp\""
   ]
  },
  {
   "cell_type": "code",
   "execution_count": 32,
   "metadata": {},
   "outputs": [],
   "source": [
    "def string_replace_ruleset(ruleset: dict[str, str] = {}, default_value=None, return_unmatch=True):\n",
    "    def inner_func(s: str) -> str:\n",
    "        if s is None:\n",
    "            return None\n",
    "        \n",
    "        if s is np.nan:\n",
    "            return None\n",
    "        \n",
    "        s = s.strip()\n",
    "        if s == \"\" or s == \"-\" or s == \"unknown\":\n",
    "            return None\n",
    "\n",
    "        for replace_with, find_what in ruleset.items():\n",
    "            for substring in find_what:\n",
    "                if substring.lower() in s.lower():\n",
    "                    return replace_with\n",
    "\n",
    "        if default_value is not None:\n",
    "            return default_value\n",
    "        \n",
    "        if return_unmatch:\n",
    "            return s.strip()\n",
    "\n",
    "    return inner_func"
   ]
  },
  {
   "cell_type": "markdown",
   "metadata": {},
   "source": [
    "## Data Loading"
   ]
  },
  {
   "cell_type": "code",
   "execution_count": 33,
   "metadata": {},
   "outputs": [
    {
     "data": {
      "text/html": [
       "<div>\n",
       "<style scoped>\n",
       "    .dataframe tbody tr th:only-of-type {\n",
       "        vertical-align: middle;\n",
       "    }\n",
       "\n",
       "    .dataframe tbody tr th {\n",
       "        vertical-align: top;\n",
       "    }\n",
       "\n",
       "    .dataframe thead th {\n",
       "        text-align: right;\n",
       "    }\n",
       "</style>\n",
       "<table border=\"1\" class=\"dataframe\">\n",
       "  <thead>\n",
       "    <tr style=\"text-align: right;\">\n",
       "      <th></th>\n",
       "      <th>id</th>\n",
       "      <th>sku</th>\n",
       "      <th>product_name</th>\n",
       "      <th>price</th>\n",
       "      <th>stock</th>\n",
       "      <th>unit_measurement</th>\n",
       "      <th>is_inactive</th>\n",
       "      <th>expiry_date</th>\n",
       "      <th>bmp_score</th>\n",
       "      <th>tkdn_score</th>\n",
       "      <th>...</th>\n",
       "      <th>warning_wrong_category</th>\n",
       "      <th>warning_wrong_description</th>\n",
       "      <th>tag_umkk</th>\n",
       "      <th>tag_verified_vendor</th>\n",
       "      <th>tag_official_vendor</th>\n",
       "      <th>tag_produk_dalam_negeri</th>\n",
       "      <th>description</th>\n",
       "      <th>extra_description</th>\n",
       "      <th>url</th>\n",
       "      <th>category</th>\n",
       "    </tr>\n",
       "  </thead>\n",
       "  <tbody>\n",
       "    <tr>\n",
       "      <th>0</th>\n",
       "      <td>83451581</td>\n",
       "      <td>4522100001-LTN-224654966</td>\n",
       "      <td>LAPTOP ADMINISTRASI PERKANTORAN AXIOO</td>\n",
       "      <td>12500000</td>\n",
       "      <td>5.0</td>\n",
       "      <td>unit</td>\n",
       "      <td>True</td>\n",
       "      <td>1.735603e+12</td>\n",
       "      <td>NaN</td>\n",
       "      <td>99.64</td>\n",
       "      <td>...</td>\n",
       "      <td>True</td>\n",
       "      <td>True</td>\n",
       "      <td>True</td>\n",
       "      <td>True</td>\n",
       "      <td>False</td>\n",
       "      <td>True</td>\n",
       "      <td>- Processor: Intel Core™ I5- 3.70 GHz - Frekue...</td>\n",
       "      <td>LAPTOP ADMINISTRASI PERKANTORAN AXIOO\\nprocess...</td>\n",
       "      <td>https://e-katalog.lkpp.go.id/katalog/produk/de...</td>\n",
       "      <td>LAPTOP</td>\n",
       "    </tr>\n",
       "    <tr>\n",
       "      <th>1</th>\n",
       "      <td>83451581</td>\n",
       "      <td>4522100001-LTN-224654966</td>\n",
       "      <td>LAPTOP ADMINISTRASI PERKANTORAN AXIOO</td>\n",
       "      <td>12500000</td>\n",
       "      <td>5.0</td>\n",
       "      <td>unit</td>\n",
       "      <td>True</td>\n",
       "      <td>1.735603e+12</td>\n",
       "      <td>NaN</td>\n",
       "      <td>99.64</td>\n",
       "      <td>...</td>\n",
       "      <td>True</td>\n",
       "      <td>True</td>\n",
       "      <td>True</td>\n",
       "      <td>True</td>\n",
       "      <td>False</td>\n",
       "      <td>True</td>\n",
       "      <td>- Processor: Intel Core™ I5- 3.70 GHz - Frekue...</td>\n",
       "      <td>LAPTOP ADMINISTRASI PERKANTORAN AXIOO\\nprocess...</td>\n",
       "      <td>https://e-katalog.lkpp.go.id/katalog/produk/de...</td>\n",
       "      <td>LAPTOP</td>\n",
       "    </tr>\n",
       "  </tbody>\n",
       "</table>\n",
       "<p>2 rows × 38 columns</p>\n",
       "</div>"
      ],
      "text/plain": [
       "         id                       sku                           product_name  \\\n",
       "0  83451581  4522100001-LTN-224654966  LAPTOP ADMINISTRASI PERKANTORAN AXIOO   \n",
       "1  83451581  4522100001-LTN-224654966  LAPTOP ADMINISTRASI PERKANTORAN AXIOO   \n",
       "\n",
       "      price  stock unit_measurement  is_inactive   expiry_date  bmp_score  \\\n",
       "0  12500000    5.0             unit         True  1.735603e+12        NaN   \n",
       "1  12500000    5.0             unit         True  1.735603e+12        NaN   \n",
       "\n",
       "   tkdn_score  ...  warning_wrong_category  warning_wrong_description  \\\n",
       "0       99.64  ...                    True                       True   \n",
       "1       99.64  ...                    True                       True   \n",
       "\n",
       "   tag_umkk tag_verified_vendor tag_official_vendor tag_produk_dalam_negeri  \\\n",
       "0      True                True               False                    True   \n",
       "1      True                True               False                    True   \n",
       "\n",
       "                                         description  \\\n",
       "0  - Processor: Intel Core™ I5- 3.70 GHz - Frekue...   \n",
       "1  - Processor: Intel Core™ I5- 3.70 GHz - Frekue...   \n",
       "\n",
       "                                   extra_description  \\\n",
       "0  LAPTOP ADMINISTRASI PERKANTORAN AXIOO\\nprocess...   \n",
       "1  LAPTOP ADMINISTRASI PERKANTORAN AXIOO\\nprocess...   \n",
       "\n",
       "                                                 url category  \n",
       "0  https://e-katalog.lkpp.go.id/katalog/produk/de...   LAPTOP  \n",
       "1  https://e-katalog.lkpp.go.id/katalog/produk/de...   LAPTOP  \n",
       "\n",
       "[2 rows x 38 columns]"
      ]
     },
     "execution_count": 33,
     "metadata": {},
     "output_type": "execute_result"
    }
   ],
   "source": [
    "df_products = pd.read_json(f\"../data/clean/{PREFIX}-products-filtered.jsonl\", lines=True)\n",
    "df_products.head(2)"
   ]
  },
  {
   "cell_type": "code",
   "execution_count": 34,
   "metadata": {},
   "outputs": [
    {
     "data": {
      "text/html": [
       "<div>\n",
       "<style scoped>\n",
       "    .dataframe tbody tr th:only-of-type {\n",
       "        vertical-align: middle;\n",
       "    }\n",
       "\n",
       "    .dataframe tbody tr th {\n",
       "        vertical-align: top;\n",
       "    }\n",
       "\n",
       "    .dataframe thead th {\n",
       "        text-align: right;\n",
       "    }\n",
       "</style>\n",
       "<table border=\"1\" class=\"dataframe\">\n",
       "  <thead>\n",
       "    <tr style=\"text-align: right;\">\n",
       "      <th></th>\n",
       "      <th>id</th>\n",
       "      <th>product_name</th>\n",
       "      <th>brand</th>\n",
       "      <th>series_model</th>\n",
       "      <th>processor</th>\n",
       "      <th>memory</th>\n",
       "      <th>storage</th>\n",
       "      <th>graphics_card</th>\n",
       "    </tr>\n",
       "  </thead>\n",
       "  <tbody>\n",
       "    <tr>\n",
       "      <th>0</th>\n",
       "      <td>83451581</td>\n",
       "      <td>LAPTOP ADMINISTRASI PERKANTORAN AXIOO</td>\n",
       "      <td>AXIOO</td>\n",
       "      <td>LAPTOP ADMINISTRASI PERKANTORAN AXIOO</td>\n",
       "      <td>Intel Core I5- 3.70 GHz - Frekuensi Turbo | Co...</td>\n",
       "      <td>8GB / 16GB DDR4 3200MHz</td>\n",
       "      <td>512GB M.2 NVMe PCIe Gen. 3 x4</td>\n",
       "      <td>Intel Iris Plus Graphic</td>\n",
       "    </tr>\n",
       "    <tr>\n",
       "      <th>1</th>\n",
       "      <td>83451581</td>\n",
       "      <td>LAPTOP ADMINISTRASI PERKANTORAN AXIOO</td>\n",
       "      <td>AXIOO</td>\n",
       "      <td>LAPTOP ADMINISTRASI PERKANTORAN AXIOO</td>\n",
       "      <td>Intel Core I5- 3.70 GHz - Frekuensi Turbo | Co...</td>\n",
       "      <td>8GB / 16GB DDR4 3200MHz</td>\n",
       "      <td>512GB M.2 NVMe PCIe Gen. 3 x4</td>\n",
       "      <td>Intel Iris Plus Graphic</td>\n",
       "    </tr>\n",
       "  </tbody>\n",
       "</table>\n",
       "</div>"
      ],
      "text/plain": [
       "         id                           product_name  brand  \\\n",
       "0  83451581  LAPTOP ADMINISTRASI PERKANTORAN AXIOO  AXIOO   \n",
       "1  83451581  LAPTOP ADMINISTRASI PERKANTORAN AXIOO  AXIOO   \n",
       "\n",
       "                            series_model  \\\n",
       "0  LAPTOP ADMINISTRASI PERKANTORAN AXIOO   \n",
       "1  LAPTOP ADMINISTRASI PERKANTORAN AXIOO   \n",
       "\n",
       "                                           processor                   memory  \\\n",
       "0  Intel Core I5- 3.70 GHz - Frekuensi Turbo | Co...  8GB / 16GB DDR4 3200MHz   \n",
       "1  Intel Core I5- 3.70 GHz - Frekuensi Turbo | Co...  8GB / 16GB DDR4 3200MHz   \n",
       "\n",
       "                         storage            graphics_card  \n",
       "0  512GB M.2 NVMe PCIe Gen. 3 x4  Intel Iris Plus Graphic  \n",
       "1  512GB M.2 NVMe PCIe Gen. 3 x4  Intel Iris Plus Graphic  "
      ]
     },
     "execution_count": 34,
     "metadata": {},
     "output_type": "execute_result"
    }
   ],
   "source": [
    "df_specs = pd.read_json(f\"../data/clean/{PREFIX}-products-specs.jsonl\", lines=True)\n",
    "df_specs.head(2)"
   ]
  },
  {
   "cell_type": "code",
   "execution_count": 35,
   "metadata": {},
   "outputs": [],
   "source": [
    "def derive_source(s: str) -> str:\n",
    "    if \"tokopedia.com\" in s:\n",
    "        return \"Tokopedia\"\n",
    "    elif \"lazada.co.id\" in s:\n",
    "        return \"Lazada\"\n",
    "    \n",
    "    return \"LKPP\"\n",
    "\n",
    "df_products[\"source\"] = df_products[\"url\"].apply(derive_source)"
   ]
  },
  {
   "cell_type": "code",
   "execution_count": 36,
   "metadata": {},
   "outputs": [
    {
     "data": {
      "text/plain": [
       "<Axes: xlabel='source'>"
      ]
     },
     "execution_count": 36,
     "metadata": {},
     "output_type": "execute_result"
    },
    {
     "data": {
      "image/png": "[encoded data removed]",
      "text/plain": [
       "<Figure size 640x480 with 1 Axes>"
      ]
     },
     "metadata": {},
     "output_type": "display_data"
    }
   ],
   "source": [
    "df_products[\"source\"].value_counts().plot.bar()"
   ]
  },
  {
   "cell_type": "markdown",
   "metadata": {},
   "source": [
    "## Feature Normalization"
   ]
  },
  {
   "cell_type": "markdown",
   "metadata": {},
   "source": [
    "### Brand"
   ]
  },
  {
   "cell_type": "code",
   "execution_count": 37,
   "metadata": {},
   "outputs": [],
   "source": [
    "brand_ruleset = {\n",
    "    None: [\"amd\", \"tanpa\", \"unknown\", \"intel\", \"itel\"],\n",
    "    \"APPLE\": [\"macbook\"],\n",
    "    \"ASUS\": [\"vivobook\", \"asus\"],\n",
    "    \"ADVAN\": [\"ad van\"],\n",
    "    \"HP\": [\"hewlet\"],\n",
    "    \"LIBERA\": [\"merdeka\", \"libera\"],\n",
    "}\n",
    "\n",
    "df_specs[\"brand_norm\"] = df_specs[\"brand\"].apply(string_replace_ruleset(brand_ruleset)).str.upper()"
   ]
  },
  {
   "cell_type": "code",
   "execution_count": 38,
   "metadata": {},
   "outputs": [
    {
     "data": {
      "image/png": "[encoded data removed]",
      "text/plain": [
       "<Figure size 640x480 with 1 Axes>"
      ]
     },
     "metadata": {},
     "output_type": "display_data"
    }
   ],
   "source": [
    "ax = df_specs[\"brand_norm\"].value_counts().plot.barh()\n",
    "ax.bar_label(ax.containers[0])\n",
    "plt.show()"
   ]
  },
  {
   "cell_type": "markdown",
   "metadata": {},
   "source": [
    "### Processor"
   ]
  },
  {
   "cell_type": "code",
   "execution_count": 39,
   "metadata": {},
   "outputs": [],
   "source": [
    "def processor_norm_intel(s: str):\n",
    "    if s is None:\n",
    "        return None\n",
    "\n",
    "    s = s.lower().strip()\n",
    "\n",
    "    # exclude non Intel CPUs\n",
    "    if \"snap\" in s or \"amd\" in s or \"ryzen\" in s or s.startswith(\"r\"):\n",
    "        return None\n",
    "    \n",
    "    # edge cases: Intel Processor and Core\n",
    "    if \"n100\" in s:\n",
    "        return \"Intel Processor N100\"\n",
    "    elif \"n200\" in s:\n",
    "        return \"Intel Processor N200\"\n",
    "    elif \"n300\" in s:\n",
    "        return \"Intel Core i3-N300\"\n",
    "    elif \"100u\" in s and \"i3\" not in s:\n",
    "        return \"Intel Core 3 100U\"\n",
    "    elif \"120u\" in s:\n",
    "        return \"Intel Core 5 120U\"\n",
    "    elif \"150u\" in s:\n",
    "        return \"Intel Core 7 150U\"\n",
    "    elif \"n6000\" in s:\n",
    "        return \"Intel Pentium Silver N6000\"\n",
    "    \n",
    "    # Intel Ultra series\n",
    "    match = re.findall(r\"ultra.?(\\d).+(\\d{3}\\w)\", s, re.IGNORECASE)\n",
    "    if len(match) == 1:\n",
    "        return \"Intel Core Ultra \" + match[0][0] + \" \" + match[0][1].upper()\n",
    "    \n",
    "    # Intel Celeron\n",
    "    match = re.findall(r\"N(\\d{4})\", s, re.IGNORECASE)\n",
    "    if len(match) == 1:\n",
    "        return \"Intel Celeron N\" + match[0]\n",
    "    \n",
    "    # Intel Core i series\n",
    "    match = re.findall(r\"(i?.?\\d)[- ]+(\\d\\w+\\d?)\", s, re.IGNORECASE)\n",
    "    if len(match) == 1:\n",
    "        return \"Intel Core \" + match[0][0].strip().lower() + \"-\" + match[0][1].upper()\n",
    "    \n",
    "    # edge case: Intel Core i series\n",
    "    match = re.findall(r\"(i\\d).+(\\d{4}[a-z]\\d?)\", s, re.IGNORECASE)\n",
    "    if len(match) == 1:\n",
    "        return \"Intel Core \" + match[0][0].strip().lower() + \"-\" + match[0][1].upper()\n",
    "    \n",
    "    # Intel Core i series without gen\n",
    "    match = re.findall(r\"core.?i.?(\\d)\", s, re.IGNORECASE)\n",
    "    if len(match) == 1:\n",
    "        return \"Intel Core i\" + match[0].strip().upper().replace(\"-\", \"\")\n",
    "    \n",
    "    return s"
   ]
  },
  {
   "cell_type": "code",
   "execution_count": 40,
   "metadata": {},
   "outputs": [],
   "source": [
    "def processor_norm_amd(s: str):\n",
    "    if s is None:\n",
    "        return None\n",
    "\n",
    "    s = s.lower().strip()\n",
    "\n",
    "    # exclude non Intel CPUs\n",
    "    if \"snap\" in s or \"amd\" in s or \"ryzen\" in s or s.startswith(\"r\"):\n",
    "        return None"
   ]
  },
  {
   "cell_type": "code",
   "execution_count": 41,
   "metadata": {},
   "outputs": [],
   "source": [
    "# passthrough\n",
    "df_specs[\"processor_norm\"] = df_specs[\"processor\"]"
   ]
  },
  {
   "cell_type": "code",
   "execution_count": 42,
   "metadata": {},
   "outputs": [],
   "source": [
    "processor_norm_amd(\"Intel Core i5 (in Pavilion x360 14 ek0114TU), Intel Core i7 (in Elitebook 8470p)\")"
   ]
  },
  {
   "cell_type": "code",
   "execution_count": 43,
   "metadata": {},
   "outputs": [
    {
     "data": {
      "text/plain": [
       "[('7', '155H')]"
      ]
     },
     "execution_count": 43,
     "metadata": {},
     "output_type": "execute_result"
    }
   ],
   "source": [
    "re.findall(r\"ultra.?(\\d).+(\\d{3}\\w)\", \"Intel Core Ultra 7 Processor 155H 1.4 GHz (24MB Cache, up to 4.8 GHz, 16 cores, 22 Threads)\", re.IGNORECASE)"
   ]
  },
  {
   "cell_type": "code",
   "execution_count": 44,
   "metadata": {},
   "outputs": [],
   "source": [
    "df_specs[\"processor\"].apply(processor_norm_amd).value_counts().sort_values(ascending=False).to_csv(\"processor_norm.txt\")"
   ]
  },
  {
   "cell_type": "code",
   "execution_count": 45,
   "metadata": {},
   "outputs": [],
   "source": [
    "df_specs[\"processor\"].value_counts().sort_index().to_csv(\"processor.txt\")"
   ]
  },
  {
   "cell_type": "markdown",
   "metadata": {},
   "source": [
    "### Memory"
   ]
  },
  {
   "cell_type": "code",
   "execution_count": 46,
   "metadata": {},
   "outputs": [],
   "source": [
    "def memory_norm(s):\n",
    "    if s is None:\n",
    "        return None\n",
    "    \n",
    "    s = s.lower().strip()\n",
    "    \n",
    "    # xx/xxx GB\n",
    "    match = re.findall(r\"(\\d+)\\/\\d.+GB\", s, re.IGNORECASE)\n",
    "    if len(match) > 0:\n",
    "        return float(match[0])\n",
    "    \n",
    "    # xx.0 GB\n",
    "    match = re.findall(r\"(\\d+.0) ?GB\", s, re.IGNORECASE)\n",
    "    if len(match) > 0:\n",
    "        return float(match[0])\n",
    "    \n",
    "    # xx GB\n",
    "    match = re.findall(r\"(\\d+) ?GB\", s, re.IGNORECASE)\n",
    "    if len(match) > 0:\n",
    "        temp = float(match[0])\n",
    "        if temp > 500:\n",
    "                return None\n",
    "\n",
    "        return temp\n",
    "    \n",
    "    return None\n",
    "\n",
    "df_specs[\"memory_norm\"] = df_specs[\"memory\"].apply(memory_norm).astype(float)"
   ]
  },
  {
   "cell_type": "code",
   "execution_count": 47,
   "metadata": {},
   "outputs": [
    {
     "data": {
      "image/png": "[encoded data removed]",
      "text/plain": [
       "<Figure size 640x480 with 1 Axes>"
      ]
     },
     "metadata": {},
     "output_type": "display_data"
    }
   ],
   "source": [
    "ax = df_specs[\"memory_norm\"].value_counts().plot.barh()\n",
    "ax.bar_label(ax.containers[0])\n",
    "plt.show()"
   ]
  },
  {
   "cell_type": "markdown",
   "metadata": {},
   "source": [
    "### Storage"
   ]
  },
  {
   "cell_type": "code",
   "execution_count": 48,
   "metadata": {},
   "outputs": [],
   "source": [
    "def norm_storage(s):\n",
    "    if s is None:\n",
    "        return None\n",
    "    \n",
    "    s = s.lower().strip()\n",
    "    if s == \"\" or s == \"unknown\":\n",
    "        return None\n",
    "\n",
    "    # xx GB/TB\n",
    "    match = re.findall(r\"(\\d+) ?(gb|tb|pci|ssd|m\\.2|g|t)\", s, re.IGNORECASE)\n",
    "    if len(match) > 0:\n",
    "        val = float(match[0][0])\n",
    "        unit = 1024 if match[0][1].lower() == \"tb\" else 1\n",
    "        return val * unit\n",
    "    \n",
    "    # xx/someting\n",
    "    match = re.findall(r\"(\\d+)\\/.+\", s, re.IGNORECASE)\n",
    "    if len(match) > 0:\n",
    "        return float(match[0])\n",
    "\n",
    "    return None\n",
    "\n",
    "df_specs[\"storage_norm\"] = df_specs[\"storage\"].apply(memory_norm).astype(float)"
   ]
  },
  {
   "cell_type": "code",
   "execution_count": 49,
   "metadata": {},
   "outputs": [
    {
     "data": {
      "image/png": "[encoded data removed]",
      "text/plain": [
       "<Figure size 640x480 with 1 Axes>"
      ]
     },
     "metadata": {},
     "output_type": "display_data"
    }
   ],
   "source": [
    "ax = df_specs[\"storage_norm\"].value_counts().plot.barh()\n",
    "ax.bar_label(ax.containers[0])\n",
    "plt.show()"
   ]
  },
  {
   "cell_type": "code",
   "execution_count": 50,
   "metadata": {},
   "outputs": [],
   "source": [
    "storage_type_ruleset = {\n",
    "    \"eMMC\": [\"emmc\", \"microsd\"],\n",
    "    \"SSD NVMe\": [\"nvme\"],\n",
    "    \"SSD\": [\"ssd\", \"pcie\", \"pci-e\", \"m.2\", \"m. 2\"],\n",
    "}\n",
    "\n",
    "df_specs[\"storage_type_norm\"] = df_specs[\"storage\"].apply(string_replace_ruleset(storage_type_ruleset, default_value=\"HDD\")).str.upper()"
   ]
  },
  {
   "cell_type": "code",
   "execution_count": 51,
   "metadata": {},
   "outputs": [
    {
     "data": {
      "image/png": "[encoded data removed]",
      "text/plain": [
       "<Figure size 640x480 with 1 Axes>"
      ]
     },
     "metadata": {},
     "output_type": "display_data"
    }
   ],
   "source": [
    "ax = df_specs[\"storage_type_norm\"].value_counts().plot.barh()\n",
    "ax.bar_label(ax.containers[0])\n",
    "plt.show()"
   ]
  },
  {
   "cell_type": "markdown",
   "metadata": {},
   "source": [
    "### Graphics Card"
   ]
  },
  {
   "cell_type": "code",
   "execution_count": 52,
   "metadata": {},
   "outputs": [],
   "source": [
    "def norm_gpu(s):\n",
    "    if s is None:\n",
    "        return None\n",
    "    \n",
    "    if s is np.nan:\n",
    "        return None\n",
    "    \n",
    "    s = s.strip()\n",
    "    if s == \"\" or s == \"-\" or s == \"unknown\":\n",
    "        return None\n",
    "    \n",
    "    # match NVIDIA GPUs\n",
    "    match = re.findall(r\"(MX|RTX|GTX) ?(\\d{4}) ?(Ti|Super)?\", s, re.IGNORECASE)\n",
    "    if len(match) > 0:\n",
    "        res = \"Nvidia \" + match[0][0].upper() + \" \" + match[0][1]\n",
    "        if len(match[0]) == 3 and len(match[0][2].strip()) > 0:\n",
    "            res += \" \" + match[0][2].strip().title()\n",
    "\n",
    "        return res\n",
    "    \n",
    "    return \"Integrated\"\n",
    "\n",
    "df_specs[\"graphics_card_norm\"] = df_specs[\"graphics_card\"].apply(norm_gpu)"
   ]
  },
  {
   "cell_type": "code",
   "execution_count": 53,
   "metadata": {},
   "outputs": [
    {
     "data": {
      "text/plain": [
       "<Axes: ylabel='graphics_card_norm'>"
      ]
     },
     "execution_count": 53,
     "metadata": {},
     "output_type": "execute_result"
    },
    {
     "data": {
      "image/png": "[encoded data removed]",
      "text/plain": [
       "<Figure size 640x480 with 1 Axes>"
      ]
     },
     "metadata": {},
     "output_type": "display_data"
    }
   ],
   "source": [
    "df_specs[\"graphics_card_norm\"].value_counts().plot.barh()"
   ]
  },
  {
   "cell_type": "markdown",
   "metadata": {},
   "source": [
    "## Merge and Save"
   ]
  },
  {
   "cell_type": "code",
   "execution_count": 54,
   "metadata": {},
   "outputs": [
    {
     "name": "stdout",
     "output_type": "stream",
     "text": [
      "<class 'pandas.core.frame.DataFrame'>\n",
      "RangeIndex: 2037 entries, 0 to 2036\n",
      "Data columns (total 39 columns):\n",
      " #   Column                      Non-Null Count  Dtype  \n",
      "---  ------                      --------------  -----  \n",
      " 0   id                          2037 non-null   int64  \n",
      " 1   sku                         2037 non-null   object \n",
      " 2   product_name                2037 non-null   object \n",
      " 3   price                       2037 non-null   int64  \n",
      " 4   stock                       1958 non-null   float64\n",
      " 5   unit_measurement            2037 non-null   object \n",
      " 6   is_inactive                 2037 non-null   bool   \n",
      " 7   expiry_date                 2036 non-null   float64\n",
      " 8   bmp_score                   1802 non-null   float64\n",
      " 9   tkdn_score                  1997 non-null   float64\n",
      " 10  tkdn_bmp_score              1997 non-null   float64\n",
      " 11  kbki_code                   2037 non-null   int64  \n",
      " 12  sni_number                  0 non-null      float64\n",
      " 13  brand                       1585 non-null   object \n",
      " 14  brand_status                1585 non-null   object \n",
      " 15  brand_holder_company        1585 non-null   object \n",
      " 16  certificate_holder_company  1585 non-null   object \n",
      " 17  provider_company            2037 non-null   object \n",
      " 18  provider_product_number     2037 non-null   object \n",
      " 19  manufacturing_country       1651 non-null   object \n",
      " 20  model                       2004 non-null   object \n",
      " 21  processor                   2004 non-null   object \n",
      " 22  memory                      1878 non-null   float64\n",
      " 23  storage                     1883 non-null   float64\n",
      " 24  graphics_card               2005 non-null   object \n",
      " 25  screen_size                 2003 non-null   object \n",
      " 26  connectivity                2005 non-null   object \n",
      " 27  color                       2015 non-null   object \n",
      " 28  warning_wrong_category      2037 non-null   bool   \n",
      " 29  warning_wrong_description   2037 non-null   bool   \n",
      " 30  tag_umkk                    2037 non-null   bool   \n",
      " 31  tag_verified_vendor         2037 non-null   bool   \n",
      " 32  tag_official_vendor         2037 non-null   bool   \n",
      " 33  tag_produk_dalam_negeri     2037 non-null   bool   \n",
      " 34  description                 1475 non-null   object \n",
      " 35  extra_description           2037 non-null   object \n",
      " 36  url                         2037 non-null   object \n",
      " 37  category                    2037 non-null   object \n",
      " 38  source                      2037 non-null   object \n",
      "dtypes: bool(7), float64(8), int64(3), object(21)\n",
      "memory usage: 523.3+ KB\n"
     ]
    }
   ],
   "source": [
    "df_products.info()"
   ]
  },
  {
   "cell_type": "code",
   "execution_count": 55,
   "metadata": {},
   "outputs": [
    {
     "name": "stdout",
     "output_type": "stream",
     "text": [
      "<class 'pandas.core.frame.DataFrame'>\n",
      "RangeIndex: 2037 entries, 0 to 2036\n",
      "Data columns (total 14 columns):\n",
      " #   Column              Non-Null Count  Dtype  \n",
      "---  ------              --------------  -----  \n",
      " 0   id                  2037 non-null   int64  \n",
      " 1   product_name        2037 non-null   object \n",
      " 2   brand               2013 non-null   object \n",
      " 3   series_model        2032 non-null   object \n",
      " 4   processor           2031 non-null   object \n",
      " 5   memory              2022 non-null   object \n",
      " 6   storage             2021 non-null   object \n",
      " 7   graphics_card       1934 non-null   object \n",
      " 8   brand_norm          1985 non-null   object \n",
      " 9   processor_norm      2031 non-null   object \n",
      " 10  memory_norm         1995 non-null   float64\n",
      " 11  storage_norm        1491 non-null   float64\n",
      " 12  storage_type_norm   2021 non-null   object \n",
      " 13  graphics_card_norm  1931 non-null   object \n",
      "dtypes: float64(2), int64(1), object(11)\n",
      "memory usage: 222.9+ KB\n"
     ]
    }
   ],
   "source": [
    "df_specs.info()"
   ]
  },
  {
   "cell_type": "code",
   "execution_count": 56,
   "metadata": {},
   "outputs": [],
   "source": [
    "cols_specs = [\"id\", \"series_model\", \"brand_norm\", \"processor_norm\", \"memory_norm\", \"storage_norm\", \"storage_type_norm\", \"graphics_card_norm\"]\n",
    "cols_products = [\"id\", \"product_name\", \"source\", \"final_price\" if PREFIX == \"ecom\" else \"price\"]\n",
    "\n",
    "# merge products\n",
    "df_merged = df_products[cols_products].merge(df_specs[cols_specs], on=\"id\", how=\"right\")"
   ]
  },
  {
   "cell_type": "code",
   "execution_count": 57,
   "metadata": {},
   "outputs": [
    {
     "data": {
      "text/html": [
       "<div>\n",
       "<style scoped>\n",
       "    .dataframe tbody tr th:only-of-type {\n",
       "        vertical-align: middle;\n",
       "    }\n",
       "\n",
       "    .dataframe tbody tr th {\n",
       "        vertical-align: top;\n",
       "    }\n",
       "\n",
       "    .dataframe thead th {\n",
       "        text-align: right;\n",
       "    }\n",
       "</style>\n",
       "<table border=\"1\" class=\"dataframe\">\n",
       "  <thead>\n",
       "    <tr style=\"text-align: right;\">\n",
       "      <th></th>\n",
       "      <th>id</th>\n",
       "      <th>product_name</th>\n",
       "      <th>source</th>\n",
       "      <th>price</th>\n",
       "      <th>series_model</th>\n",
       "      <th>brand</th>\n",
       "      <th>processor</th>\n",
       "      <th>memory_gb</th>\n",
       "      <th>storage_gb</th>\n",
       "      <th>storage_type</th>\n",
       "      <th>graphics_card</th>\n",
       "    </tr>\n",
       "  </thead>\n",
       "  <tbody>\n",
       "    <tr>\n",
       "      <th>0</th>\n",
       "      <td>83451581</td>\n",
       "      <td>LAPTOP ADMINISTRASI PERKANTORAN AXIOO</td>\n",
       "      <td>LKPP</td>\n",
       "      <td>12500000</td>\n",
       "      <td>LAPTOP ADMINISTRASI PERKANTORAN AXIOO</td>\n",
       "      <td>AXIOO</td>\n",
       "      <td>Intel Core I5- 3.70 GHz - Frekuensi Turbo | Co...</td>\n",
       "      <td>8.0</td>\n",
       "      <td>NaN</td>\n",
       "      <td>SSD NVME</td>\n",
       "      <td>Integrated</td>\n",
       "    </tr>\n",
       "    <tr>\n",
       "      <th>1</th>\n",
       "      <td>83451581</td>\n",
       "      <td>LAPTOP ADMINISTRASI PERKANTORAN AXIOO</td>\n",
       "      <td>LKPP</td>\n",
       "      <td>12500000</td>\n",
       "      <td>LAPTOP ADMINISTRASI PERKANTORAN AXIOO</td>\n",
       "      <td>AXIOO</td>\n",
       "      <td>Intel Core I5- 3.70 GHz - Frekuensi Turbo | Co...</td>\n",
       "      <td>8.0</td>\n",
       "      <td>NaN</td>\n",
       "      <td>SSD NVME</td>\n",
       "      <td>Integrated</td>\n",
       "    </tr>\n",
       "    <tr>\n",
       "      <th>2</th>\n",
       "      <td>83451581</td>\n",
       "      <td>LAPTOP ADMINISTRASI PERKANTORAN AXIOO</td>\n",
       "      <td>LKPP</td>\n",
       "      <td>12500000</td>\n",
       "      <td>LAPTOP ADMINISTRASI PERKANTORAN AXIOO</td>\n",
       "      <td>AXIOO</td>\n",
       "      <td>Intel Core I5- 3.70 GHz - Frekuensi Turbo | Co...</td>\n",
       "      <td>8.0</td>\n",
       "      <td>NaN</td>\n",
       "      <td>SSD NVME</td>\n",
       "      <td>Integrated</td>\n",
       "    </tr>\n",
       "    <tr>\n",
       "      <th>3</th>\n",
       "      <td>83451581</td>\n",
       "      <td>LAPTOP ADMINISTRASI PERKANTORAN AXIOO</td>\n",
       "      <td>LKPP</td>\n",
       "      <td>12500000</td>\n",
       "      <td>LAPTOP ADMINISTRASI PERKANTORAN AXIOO</td>\n",
       "      <td>AXIOO</td>\n",
       "      <td>Intel Core I5- 3.70 GHz - Frekuensi Turbo | Co...</td>\n",
       "      <td>8.0</td>\n",
       "      <td>NaN</td>\n",
       "      <td>SSD NVME</td>\n",
       "      <td>Integrated</td>\n",
       "    </tr>\n",
       "    <tr>\n",
       "      <th>4</th>\n",
       "      <td>83451581</td>\n",
       "      <td>LAPTOP ADMINISTRASI PERKANTORAN AXIOO</td>\n",
       "      <td>LKPP</td>\n",
       "      <td>12500000</td>\n",
       "      <td>LAPTOP ADMINISTRASI PERKANTORAN AXIOO</td>\n",
       "      <td>AXIOO</td>\n",
       "      <td>Intel Core I5- 3.70 GHz - Frekuensi Turbo | Co...</td>\n",
       "      <td>8.0</td>\n",
       "      <td>NaN</td>\n",
       "      <td>SSD NVME</td>\n",
       "      <td>Integrated</td>\n",
       "    </tr>\n",
       "  </tbody>\n",
       "</table>\n",
       "</div>"
      ],
      "text/plain": [
       "         id                           product_name source     price  \\\n",
       "0  83451581  LAPTOP ADMINISTRASI PERKANTORAN AXIOO   LKPP  12500000   \n",
       "1  83451581  LAPTOP ADMINISTRASI PERKANTORAN AXIOO   LKPP  12500000   \n",
       "2  83451581  LAPTOP ADMINISTRASI PERKANTORAN AXIOO   LKPP  12500000   \n",
       "3  83451581  LAPTOP ADMINISTRASI PERKANTORAN AXIOO   LKPP  12500000   \n",
       "4  83451581  LAPTOP ADMINISTRASI PERKANTORAN AXIOO   LKPP  12500000   \n",
       "\n",
       "                            series_model  brand  \\\n",
       "0  LAPTOP ADMINISTRASI PERKANTORAN AXIOO  AXIOO   \n",
       "1  LAPTOP ADMINISTRASI PERKANTORAN AXIOO  AXIOO   \n",
       "2  LAPTOP ADMINISTRASI PERKANTORAN AXIOO  AXIOO   \n",
       "3  LAPTOP ADMINISTRASI PERKANTORAN AXIOO  AXIOO   \n",
       "4  LAPTOP ADMINISTRASI PERKANTORAN AXIOO  AXIOO   \n",
       "\n",
       "                                           processor  memory_gb  storage_gb  \\\n",
       "0  Intel Core I5- 3.70 GHz - Frekuensi Turbo | Co...        8.0         NaN   \n",
       "1  Intel Core I5- 3.70 GHz - Frekuensi Turbo | Co...        8.0         NaN   \n",
       "2  Intel Core I5- 3.70 GHz - Frekuensi Turbo | Co...        8.0         NaN   \n",
       "3  Intel Core I5- 3.70 GHz - Frekuensi Turbo | Co...        8.0         NaN   \n",
       "4  Intel Core I5- 3.70 GHz - Frekuensi Turbo | Co...        8.0         NaN   \n",
       "\n",
       "  storage_type graphics_card  \n",
       "0     SSD NVME    Integrated  \n",
       "1     SSD NVME    Integrated  \n",
       "2     SSD NVME    Integrated  \n",
       "3     SSD NVME    Integrated  \n",
       "4     SSD NVME    Integrated  "
      ]
     },
     "execution_count": 57,
     "metadata": {},
     "output_type": "execute_result"
    }
   ],
   "source": [
    "col_rename_map = {\n",
    "    \"brand_norm\": \"brand\",\n",
    "    \"processor_norm\": \"processor\",\n",
    "    \"memory_norm\": \"memory_gb\",\n",
    "    \"storage_norm\": \"storage_gb\",\n",
    "    \"storage_type_norm\": \"storage_type\",\n",
    "    \"graphics_card_norm\": \"graphics_card\",\n",
    "}\n",
    "\n",
    "if PREFIX == \"ecom\":\n",
    "    col_rename_map[\"final_price\"] = \"price\"\n",
    "\n",
    "# rename cols\n",
    "df_merged = df_merged.rename(columns=col_rename_map)\n",
    "df_merged.head()"
   ]
  },
  {
   "cell_type": "code",
   "execution_count": 58,
   "metadata": {},
   "outputs": [],
   "source": [
    "df_merged.to_json(f\"../data/clean/{PREFIX}-products-ready.jsonl\", orient=\"records\", lines=True)"
   ]
  },
  {
   "cell_type": "code",
   "execution_count": null,
   "metadata": {},
   "outputs": [],
   "source": []
  }
 ],
 "metadata": {
  "kernelspec": {
   "display_name": ".venv",
   "language": "python",
   "name": "python3"
  },
  "language_info": {
   "codemirror_mode": {
    "name": "ipython",
    "version": 3
   },
   "file_extension": ".py",
   "mimetype": "text/x-python",
   "name": "python",
   "nbconvert_exporter": "python",
   "pygments_lexer": "ipython3",
   "version": "3.11.9"
  }
 },
 "nbformat": 4,
 "nbformat_minor": 2
}
